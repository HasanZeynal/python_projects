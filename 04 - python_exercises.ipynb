{
 "cells": [
  {
   "cell_type": "code",
   "execution_count": 1,
   "id": "eb2ebcb3",
   "metadata": {},
   "outputs": [],
   "source": [
    "import pandas as pd\n",
    "import numpy as np"
   ]
  },
  {
   "cell_type": "markdown",
   "id": "c47d48b2",
   "metadata": {},
   "source": [
    "# 1."
   ]
  },
  {
   "cell_type": "code",
   "execution_count": 15,
   "id": "933300f1",
   "metadata": {},
   "outputs": [],
   "source": [
    "#You are given two integer arrays nums1 and nums2, sorted in non-decreasing order, and two integers m and n, \n",
    "#representing the number of elements in nums1 and nums2 respectively.\n",
    "\n",
    "nums1 = [1,2,3,0,0,0]\n",
    "m = 3\n",
    "nums2 = [2,5,6]\n",
    "n = 3"
   ]
  },
  {
   "cell_type": "code",
   "execution_count": 16,
   "id": "0411e188",
   "metadata": {},
   "outputs": [],
   "source": [
    "for i in nums2:\n",
    "    nums1[nums1.index(0)] = i"
   ]
  },
  {
   "cell_type": "code",
   "execution_count": 17,
   "id": "5bc775fe",
   "metadata": {},
   "outputs": [],
   "source": [
    "nums1.sort()"
   ]
  },
  {
   "cell_type": "code",
   "execution_count": 13,
   "id": "0ccf3bd1",
   "metadata": {},
   "outputs": [
    {
     "data": {
      "text/plain": [
       "[1, 2, 2, 3, 5, 6]"
      ]
     },
     "execution_count": 13,
     "metadata": {},
     "output_type": "execute_result"
    }
   ],
   "source": [
    "nums1"
   ]
  },
  {
   "cell_type": "markdown",
   "id": "1d5cd3b9",
   "metadata": {},
   "source": [
    "# 2."
   ]
  },
  {
   "cell_type": "code",
   "execution_count": 29,
   "id": "51f514ce",
   "metadata": {},
   "outputs": [],
   "source": [
    "nums = [1,0,1]"
   ]
  },
  {
   "cell_type": "code",
   "execution_count": 28,
   "id": "0af1aae9",
   "metadata": {},
   "outputs": [
    {
     "data": {
      "text/plain": [
       "[1]"
      ]
     },
     "execution_count": 28,
     "metadata": {},
     "output_type": "execute_result"
    }
   ],
   "source": [
    "#Given a non-empty array of integers nums, every element appears twice except for one. Find that single one.\n",
    "#You must implement a solution with a linear runtime complexity and use only constant extra space\n",
    "\n",
    "#Solution 1\n",
    "new_list = []\n",
    "for i in nums:\n",
    "    nums.remove(i)\n",
    "    if i not in nums:\n",
    "        new_list.append(i)\n",
    "new_list"
   ]
  },
  {
   "cell_type": "code",
   "execution_count": 31,
   "id": "d4f91ba4",
   "metadata": {},
   "outputs": [
    {
     "name": "stdout",
     "output_type": "stream",
     "text": [
      "0\n"
     ]
    }
   ],
   "source": [
    "#Solution 2\n",
    "for i in range(len(nums)-1):\n",
    "    nums = sorted(nums)\n",
    "    if nums[i] != nums[i+1]:\n",
    "        print(nums[i])"
   ]
  },
  {
   "cell_type": "code",
   "execution_count": 36,
   "id": "eda9b4af",
   "metadata": {},
   "outputs": [
    {
     "name": "stdout",
     "output_type": "stream",
     "text": [
      "4\n"
     ]
    }
   ],
   "source": [
    "#Solution 2\n",
    "nums = [4,1,2,1,2]\n",
    "my_dict = {}\n",
    "for i in nums:\n",
    "    if i not in my_dict:\n",
    "        my_dict[i] = 1\n",
    "    else:\n",
    "        my_dict[i] += 1\n",
    "for j,i in my_dict.items():\n",
    "    if i == 1:\n",
    "        print(j)"
   ]
  },
  {
   "cell_type": "markdown",
   "id": "d94df814",
   "metadata": {},
   "source": [
    "# 3."
   ]
  },
  {
   "cell_type": "code",
   "execution_count": 11,
   "id": "1ee78710",
   "metadata": {},
   "outputs": [],
   "source": [
    "#fibonacci number\n",
    "\n",
    "n = 4"
   ]
  },
  {
   "cell_type": "code",
   "execution_count": 15,
   "id": "3c971b49",
   "metadata": {},
   "outputs": [
    {
     "data": {
      "text/plain": [
       "6"
      ]
     },
     "execution_count": 15,
     "metadata": {},
     "output_type": "execute_result"
    }
   ],
   "source": [
    "sums = 0\n",
    "for i in range(n):\n",
    "    sums += i\n",
    "sums"
   ]
  },
  {
   "cell_type": "markdown",
   "id": "e0ddb3f9",
   "metadata": {},
   "source": [
    "# 4."
   ]
  },
  {
   "cell_type": "code",
   "execution_count": 47,
   "id": "361ccee3",
   "metadata": {},
   "outputs": [
    {
     "data": {
      "text/plain": [
       "[1, 2, 3, 4, 5, 6, 7, 8, 9, 1]"
      ]
     },
     "execution_count": 47,
     "metadata": {},
     "output_type": "execute_result"
    }
   ],
   "source": [
    "#self dividing nunber\n",
    "\n",
    "left = 1\n",
    "right = 22\n",
    "my_list = []\n",
    "new_list = []\n",
    "\n",
    "for i in range(left, right + 1):\n",
    "    if i < 10:\n",
    "        my_list.append(i)\n",
    "    else:\n",
    "        for j in range(len(str(i))):\n",
    "            if '0' not in str(i):\n",
    "                if j % int(str(i)[j]) == 0:\n",
    "                    new_list.append(i)\n",
    "        if len(new_list) == len(str(i)):\n",
    "            my_list.append(j)\n",
    "my_list"
   ]
  },
  {
   "cell_type": "code",
   "execution_count": null,
   "id": "ae8e1d76",
   "metadata": {},
   "outputs": [],
   "source": []
  },
  {
   "cell_type": "markdown",
   "id": "918269c1",
   "metadata": {},
   "source": [
    "# 5."
   ]
  },
  {
   "cell_type": "code",
   "execution_count": 3,
   "id": "d6c0f38e",
   "metadata": {},
   "outputs": [],
   "source": [
    "#You are given an integer array nums containing distinct numbers, \n",
    "#and you can perform the following operations until the array is empty:\n",
    "\n",
    "#If the first element has the smallest value, remove it\n",
    "#Otherwise, put the first element at the end of the array.\n",
    "#Return an integer denoting the number of operations it takes to make nums empty.\n",
    "\n",
    "nums = [3,4,-1]"
   ]
  },
  {
   "cell_type": "code",
   "execution_count": null,
   "id": "db592aac",
   "metadata": {},
   "outputs": [],
   "source": [
    "count = 0\n",
    "min_number = np.min(nums)\n",
    "while len(nums) != 0:\n",
    "    if nums[0] != min_number:\n",
    "        "
   ]
  },
  {
   "cell_type": "markdown",
   "id": "bf3e657f",
   "metadata": {},
   "source": [
    "# 6."
   ]
  },
  {
   "cell_type": "code",
   "execution_count": 10,
   "id": "1e970755",
   "metadata": {},
   "outputs": [],
   "source": [
    "#Your laptop keyboard is faulty, and whenever you type a character 'i' on it, \n",
    "#it reverses the string that you have written. Typing other characters works as expected.\n",
    "\n",
    "#You are given a 0-indexed string s, and you type each character of s using your faulty keyboard.\n",
    "\n",
    "#Return the final string that will be present on your laptop screen.\n",
    "\n",
    "s = \"string\""
   ]
  },
  {
   "cell_type": "code",
   "execution_count": 9,
   "id": "e2ee545c",
   "metadata": {},
   "outputs": [
    {
     "data": {
      "text/plain": [
       "'rtsng'"
      ]
     },
     "execution_count": 9,
     "metadata": {},
     "output_type": "execute_result"
    }
   ],
   "source": [
    "new_list = []\n",
    "for i in s:\n",
    "    if i != 'i':\n",
    "        new_list.append(i)\n",
    "    if i == 'i':     \n",
    "        new_list = list(reversed(new_list))  \n",
    "''.join(new_list)"
   ]
  },
  {
   "cell_type": "markdown",
   "id": "4910551c",
   "metadata": {},
   "source": [
    "# 7."
   ]
  },
  {
   "cell_type": "code",
   "execution_count": 8,
   "id": "e9031520",
   "metadata": {},
   "outputs": [
    {
     "data": {
      "text/plain": [
       "['s', 'a']"
      ]
     },
     "execution_count": 8,
     "metadata": {},
     "output_type": "execute_result"
    }
   ],
   "source": [
    "list(reversed(['a','s']))"
   ]
  },
  {
   "cell_type": "code",
   "execution_count": null,
   "id": "0694c576",
   "metadata": {},
   "outputs": [],
   "source": []
  },
  {
   "cell_type": "markdown",
   "id": "585a6f0b",
   "metadata": {},
   "source": [
    "# 8."
   ]
  },
  {
   "cell_type": "code",
   "execution_count": 75,
   "id": "35490739",
   "metadata": {},
   "outputs": [],
   "source": [
    "#Given an integer num, return the number of steps to reduce it to zero.\n",
    "\n",
    "#In one step, if the current number is even, you have to divide it by 2, otherwise, you have to subtract 1 from it.\n",
    "num = 14"
   ]
  },
  {
   "cell_type": "code",
   "execution_count": 76,
   "id": "75d5feb2",
   "metadata": {},
   "outputs": [
    {
     "data": {
      "text/plain": [
       "6"
      ]
     },
     "execution_count": 76,
     "metadata": {},
     "output_type": "execute_result"
    }
   ],
   "source": [
    "count = 0\n",
    "while num != 0:\n",
    "    if num % 2 == 0:\n",
    "        num = num / 2\n",
    "    else:\n",
    "        num = num - 1\n",
    "    count += 1\n",
    "count"
   ]
  },
  {
   "cell_type": "markdown",
   "id": "05e9f171",
   "metadata": {},
   "source": [
    "# 9."
   ]
  },
  {
   "cell_type": "code",
   "execution_count": 62,
   "id": "c6110d58",
   "metadata": {},
   "outputs": [],
   "source": [
    "nums = [1,15,6,3]"
   ]
  },
  {
   "cell_type": "code",
   "execution_count": 67,
   "id": "df160a6d",
   "metadata": {},
   "outputs": [
    {
     "name": "stdout",
     "output_type": "stream",
     "text": [
      "9\n"
     ]
    }
   ],
   "source": [
    "new_list = []\n",
    "x = np.sum(nums)\n",
    "for i in nums:\n",
    "    if len(str(i)) == 1:\n",
    "        new_list.append(i)\n",
    "    else:\n",
    "        for j in range(len(str(i))):\n",
    "            new_list.append(int(str(i)[j]))\n",
    "if np.sum(nums) - np.sum(new_list) < 0:\n",
    "    print(np.sum(nums) - np.sum(new_list) * -1)\n",
    "else:\n",
    "    print(np.sum(nums) - np.sum(new_list))\n",
    "    "
   ]
  },
  {
   "cell_type": "markdown",
   "id": "ea5e45a1",
   "metadata": {},
   "source": [
    "# 10."
   ]
  },
  {
   "cell_type": "code",
   "execution_count": 61,
   "id": "203c53b9",
   "metadata": {},
   "outputs": [
    {
     "data": {
      "text/plain": [
       "4"
      ]
     },
     "execution_count": 61,
     "metadata": {},
     "output_type": "execute_result"
    }
   ],
   "source": [
    "#Given an integer num, return the number of digits in num that divide num.\n",
    "\n",
    "#An integer val divides nums if nums % val == 0.\n",
    "\n",
    "count = 0\n",
    "num = 1248\n",
    "for i in range(len(str(num))):\n",
    "    if num % int(str(num)[i]) ==0:\n",
    "        count+= 1\n",
    "count"
   ]
  }
 ],
 "metadata": {
  "kernelspec": {
   "display_name": "Python 3 (ipykernel)",
   "language": "python",
   "name": "python3"
  },
  "language_info": {
   "codemirror_mode": {
    "name": "ipython",
    "version": 3
   },
   "file_extension": ".py",
   "mimetype": "text/x-python",
   "name": "python",
   "nbconvert_exporter": "python",
   "pygments_lexer": "ipython3",
   "version": "3.9.13"
  }
 },
 "nbformat": 4,
 "nbformat_minor": 5
}
