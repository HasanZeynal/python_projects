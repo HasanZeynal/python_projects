{
 "cells": [
  {
   "cell_type": "code",
   "execution_count": 1,
   "id": "0c5d5943",
   "metadata": {},
   "outputs": [],
   "source": [
    "import pandas as pd\n",
    "import numpy as np"
   ]
  },
  {
   "cell_type": "markdown",
   "id": "2004ccdb",
   "metadata": {},
   "source": [
    "# 1."
   ]
  },
  {
   "cell_type": "code",
   "execution_count": 15,
   "id": "9f0c27fc",
   "metadata": {},
   "outputs": [],
   "source": [
    "#You are given two integer arrays nums1 and nums2, sorted in non-decreasing order, and two integers m and n, \n",
    "#representing the number of elements in nums1 and nums2 respectively.\n",
    "\n",
    "nums1 = [1,2,3,0,0,0]\n",
    "m = 3\n",
    "nums2 = [2,5,6]\n",
    "n = 3"
   ]
  },
  {
   "cell_type": "code",
   "execution_count": 16,
   "id": "22e3cbd6",
   "metadata": {},
   "outputs": [],
   "source": [
    "for i in nums2:\n",
    "    nums1[nums1.index(0)] = i"
   ]
  },
  {
   "cell_type": "code",
   "execution_count": 17,
   "id": "7c0b8a0e",
   "metadata": {},
   "outputs": [],
   "source": [
    "nums1.sort()"
   ]
  },
  {
   "cell_type": "code",
   "execution_count": 13,
   "id": "c5d4a2f2",
   "metadata": {},
   "outputs": [
    {
     "data": {
      "text/plain": [
       "[1, 2, 2, 3, 5, 6]"
      ]
     },
     "execution_count": 13,
     "metadata": {},
     "output_type": "execute_result"
    }
   ],
   "source": [
    "nums1"
   ]
  },
  {
   "cell_type": "markdown",
   "id": "45c5f89d",
   "metadata": {},
   "source": [
    "# 2."
   ]
  },
  {
   "cell_type": "code",
   "execution_count": 29,
   "id": "df2bde58",
   "metadata": {},
   "outputs": [],
   "source": [
    "nums = [1,0,1]"
   ]
  },
  {
   "cell_type": "code",
   "execution_count": 28,
   "id": "9d266888",
   "metadata": {},
   "outputs": [
    {
     "data": {
      "text/plain": [
       "[1]"
      ]
     },
     "execution_count": 28,
     "metadata": {},
     "output_type": "execute_result"
    }
   ],
   "source": [
    "#Given a non-empty array of integers nums, every element appears twice except for one. Find that single one.\n",
    "#You must implement a solution with a linear runtime complexity and use only constant extra space\n",
    "\n",
    "#Solution 1\n",
    "new_list = []\n",
    "for i in nums:\n",
    "    nums.remove(i)\n",
    "    if i not in nums:\n",
    "        new_list.append(i)\n",
    "new_list"
   ]
  },
  {
   "cell_type": "code",
   "execution_count": 31,
   "id": "1685039e",
   "metadata": {},
   "outputs": [
    {
     "name": "stdout",
     "output_type": "stream",
     "text": [
      "0\n"
     ]
    }
   ],
   "source": [
    "#Solution 2\n",
    "for i in range(len(nums)-1):\n",
    "    nums = sorted(nums)\n",
    "    if nums[i] != nums[i+1]:\n",
    "        print(nums[i])"
   ]
  },
  {
   "cell_type": "code",
   "execution_count": 36,
   "id": "0f58236c",
   "metadata": {},
   "outputs": [
    {
     "name": "stdout",
     "output_type": "stream",
     "text": [
      "4\n"
     ]
    }
   ],
   "source": [
    "#Solution 2\n",
    "nums = [4,1,2,1,2]\n",
    "my_dict = {}\n",
    "for i in nums:\n",
    "    if i not in my_dict:\n",
    "        my_dict[i] = 1\n",
    "    else:\n",
    "        my_dict[i] += 1\n",
    "for j,i in my_dict.items():\n",
    "    if i == 1:\n",
    "        print(j)"
   ]
  },
  {
   "cell_type": "markdown",
   "id": "8f0cfb52",
   "metadata": {},
   "source": [
    "# 3."
   ]
  },
  {
   "cell_type": "code",
   "execution_count": null,
   "id": "68128bac",
   "metadata": {},
   "outputs": [],
   "source": []
  },
  {
   "cell_type": "code",
   "execution_count": null,
   "id": "2e0d56ef",
   "metadata": {},
   "outputs": [],
   "source": []
  },
  {
   "cell_type": "markdown",
   "id": "0cd8478a",
   "metadata": {},
   "source": [
    "# 4."
   ]
  },
  {
   "cell_type": "code",
   "execution_count": null,
   "id": "9b669edf",
   "metadata": {},
   "outputs": [],
   "source": []
  },
  {
   "cell_type": "code",
   "execution_count": null,
   "id": "523916c5",
   "metadata": {},
   "outputs": [],
   "source": []
  },
  {
   "cell_type": "markdown",
   "id": "80e7103a",
   "metadata": {},
   "source": [
    "# 5."
   ]
  },
  {
   "cell_type": "code",
   "execution_count": null,
   "id": "25ed2c27",
   "metadata": {},
   "outputs": [],
   "source": []
  }
 ],
 "metadata": {
  "kernelspec": {
   "display_name": "Python 3 (ipykernel)",
   "language": "python",
   "name": "python3"
  },
  "language_info": {
   "codemirror_mode": {
    "name": "ipython",
    "version": 3
   },
   "file_extension": ".py",
   "mimetype": "text/x-python",
   "name": "python",
   "nbconvert_exporter": "python",
   "pygments_lexer": "ipython3",
   "version": "3.9.13"
  }
 },
 "nbformat": 4,
 "nbformat_minor": 5
}
