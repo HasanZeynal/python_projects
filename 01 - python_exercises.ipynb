{
 "cells": [
  {
   "cell_type": "markdown",
   "id": "9a9c4688",
   "metadata": {},
   "source": [
    "### 1."
   ]
  },
  {
   "cell_type": "code",
   "execution_count": 12,
   "id": "cdb2e342",
   "metadata": {},
   "outputs": [
    {
     "name": "stdout",
     "output_type": "stream",
     "text": [
      "False\n"
     ]
    }
   ],
   "source": [
    "#if power of 2 is equal n return true, otherwise return false\n",
    "n = 3\n",
    "list1 = []\n",
    "for power in range(100):\n",
    "    if 2 ** power == n:\n",
    "        list1.append(True)\n",
    "    else:\n",
    "        list1.append(False)\n",
    "if True in list1:\n",
    "    print(True)\n",
    "else:\n",
    "    print(False)"
   ]
  },
  {
   "cell_type": "markdown",
   "id": "c18db20a",
   "metadata": {},
   "source": [
    "### 2."
   ]
  },
  {
   "cell_type": "code",
   "execution_count": 15,
   "id": "55ccf076",
   "metadata": {},
   "outputs": [
    {
     "name": "stdout",
     "output_type": "stream",
     "text": [
      "True\n"
     ]
    }
   ],
   "source": [
    "#Given an integer n, return true if it is a power of three. Otherwise, return false.\n",
    "n = 27\n",
    "list1 = []\n",
    "for power in range(100):\n",
    "    if 3 ** power == n:\n",
    "        list1.append(True)\n",
    "    else:\n",
    "        list1.append(False)\n",
    "if True in list1:\n",
    "    print(True)\n",
    "else:\n",
    "    print(False)"
   ]
  },
  {
   "cell_type": "markdown",
   "id": "43efd874",
   "metadata": {},
   "source": [
    "### 3."
   ]
  },
  {
   "cell_type": "code",
   "execution_count": null,
   "id": "1bc0330c",
   "metadata": {},
   "outputs": [],
   "source": [
    "#Given an array of integers nums and an integer target, \n",
    "#return indices of the two numbers such that they add up to target.\n"
   ]
  },
  {
   "cell_type": "code",
   "execution_count": 40,
   "id": "499a4de8",
   "metadata": {},
   "outputs": [],
   "source": [
    "nums = [3,2,4]\n",
    "target = 6"
   ]
  },
  {
   "cell_type": "code",
   "execution_count": 41,
   "id": "0154a4b2",
   "metadata": {},
   "outputs": [
    {
     "data": {
      "text/plain": [
       "[1, 2]"
      ]
     },
     "execution_count": 41,
     "metadata": {},
     "output_type": "execute_result"
    }
   ],
   "source": [
    "list1 = []\n",
    "for i,j in enumerate(nums):\n",
    "    for k in range(len(nums)):\n",
    "        if j + nums[k] == target and j != nums[k]:\n",
    "            list1.append(i)\n",
    "list1"
   ]
  },
  {
   "cell_type": "markdown",
   "id": "2784fc14",
   "metadata": {},
   "source": [
    "### 4.Not Done"
   ]
  },
  {
   "cell_type": "code",
   "execution_count": 30,
   "id": "75a30642",
   "metadata": {},
   "outputs": [],
   "source": [
    "nums1 = [1,2,3,3]\n",
    "nums2 = [1,1,2,2]"
   ]
  },
  {
   "cell_type": "code",
   "execution_count": 31,
   "id": "35b6f070",
   "metadata": {},
   "outputs": [
    {
     "data": {
      "text/plain": [
       "[1, 2]"
      ]
     },
     "execution_count": 31,
     "metadata": {},
     "output_type": "execute_result"
    }
   ],
   "source": [
    "new_list = []\n",
    "for i in nums1:\n",
    "    if i in nums2:\n",
    "        new_list.append(i)\n",
    "for j in new_list:\n",
    "    if j in nums1 or j in nums2:\n",
    "        nums1.remove(j)\n",
    "        nums2.remove(j)\n",
    "new_list"
   ]
  },
  {
   "cell_type": "code",
   "execution_count": 32,
   "id": "4844b1bf",
   "metadata": {},
   "outputs": [
    {
     "data": {
      "text/plain": [
       "([3, 3], [1, 2])"
      ]
     },
     "execution_count": 32,
     "metadata": {},
     "output_type": "execute_result"
    }
   ],
   "source": [
    "nums1,nums2"
   ]
  },
  {
   "cell_type": "markdown",
   "id": "5a2bc7bf",
   "metadata": {},
   "source": [
    "### 5."
   ]
  },
  {
   "cell_type": "code",
   "execution_count": 40,
   "id": "343344c0",
   "metadata": {},
   "outputs": [],
   "source": [
    "#merge string alternativly\n",
    "word1 = \"abc\"\n",
    "word2 = \"pqr\""
   ]
  },
  {
   "cell_type": "code",
   "execution_count": 43,
   "id": "f4aff4f7",
   "metadata": {},
   "outputs": [],
   "source": [
    "if len(word1) or len(word2):\n",
    "    word"
   ]
  },
  {
   "cell_type": "code",
   "execution_count": 44,
   "id": "7945ed3f",
   "metadata": {},
   "outputs": [
    {
     "data": {
      "text/plain": [
       "['a', 'b', 'c', 'p', 'q', 'r']"
      ]
     },
     "execution_count": 44,
     "metadata": {},
     "output_type": "execute_result"
    }
   ],
   "source": [
    "new_list"
   ]
  },
  {
   "cell_type": "markdown",
   "id": "ac46cf4d",
   "metadata": {},
   "source": [
    "### 6."
   ]
  },
  {
   "cell_type": "code",
   "execution_count": 10,
   "id": "819a448f",
   "metadata": {},
   "outputs": [],
   "source": [
    "strs = [\"flower\",\"flow\",\"flight\"]"
   ]
  },
  {
   "cell_type": "code",
   "execution_count": 24,
   "id": "ce60c454",
   "metadata": {},
   "outputs": [
    {
     "name": "stdout",
     "output_type": "stream",
     "text": [
      "6\n",
      "fl\n"
     ]
    },
    {
     "data": {
      "text/plain": [
       "['fl', 'f', '']"
      ]
     },
     "execution_count": 24,
     "metadata": {},
     "output_type": "execute_result"
    }
   ],
   "source": [
    "count = len(strs[0])\n",
    "print(count)\n",
    "new_list = []\n",
    "while count >= 0:\n",
    "    seq = strs[0][:count]\n",
    "    if seq in strs[1] and seq in strs[2]:\n",
    "        new_list.append(seq)\n",
    "    count -= 1\n",
    "max_number = 0\n",
    "for i in range(len(new_list)):\n",
    "    if len(new_list[i]) > max_number:\n",
    "        print(new_list[i])\n",
    "        max_number = len(new_list[i])\n",
    "new_list"
   ]
  },
  {
   "cell_type": "markdown",
   "id": "510b4c3b",
   "metadata": {},
   "source": [
    "### 7."
   ]
  },
  {
   "cell_type": "code",
   "execution_count": 48,
   "id": "44aa1dac",
   "metadata": {},
   "outputs": [
    {
     "name": "stdout",
     "output_type": "stream",
     "text": [
      "[4, 3, 2, 2]\n"
     ]
    }
   ],
   "source": [
    "#You are given a large integer represented as an integer array digits, where each digits[i] is the ith digit of the integer.\n",
    "#The digits are ordered from most significant to least significant in left-to-right order.\n",
    "#The large integer does not contain any leading 0's.\n",
    "\n",
    "digits = [4,3,2,1]\n",
    "result = ''\n",
    "for i in digits:\n",
    "    result = result + str(i)\n",
    "result = int(result)\n",
    "result = result + 1\n",
    "result = str(result)\n",
    "new_result = []\n",
    "for i in result:\n",
    "    new_result.append(i)\n",
    "#new_result = int(new_result)\n",
    "final_result = []\n",
    "for i in new_result:\n",
    "    final_result.append(int(i))\n",
    "print(final_result)"
   ]
  },
  {
   "cell_type": "markdown",
   "id": "a7cfe0a7",
   "metadata": {},
   "source": [
    "### 8."
   ]
  },
  {
   "cell_type": "code",
   "execution_count": 1,
   "id": "9d029f54",
   "metadata": {},
   "outputs": [],
   "source": [
    "lists = [[1,4,5],[1,3,4],[2,6]]\n",
    "\n"
   ]
  },
  {
   "cell_type": "code",
   "execution_count": 5,
   "id": "d1fad3ff",
   "metadata": {},
   "outputs": [
    {
     "data": {
      "text/plain": [
       "[1, 4, 5, 1, 3, 4, 2, 6]"
      ]
     },
     "execution_count": 5,
     "metadata": {},
     "output_type": "execute_result"
    }
   ],
   "source": [
    "new_list = []\n",
    "for i in range(len(lists)):\n",
    "    for j in lists[i]:\n",
    "        new_list.append(j)\n",
    "sorted(new_list)"
   ]
  },
  {
   "cell_type": "code",
   "execution_count": 6,
   "id": "9aff3611",
   "metadata": {},
   "outputs": [
    {
     "data": {
      "text/plain": [
       "[1, 1, 2, 3, 4, 4, 5, 6]"
      ]
     },
     "execution_count": 6,
     "metadata": {},
     "output_type": "execute_result"
    }
   ],
   "source": [
    "sorted(new_list)"
   ]
  },
  {
   "cell_type": "markdown",
   "id": "77aae395",
   "metadata": {},
   "source": [
    "### 9."
   ]
  },
  {
   "cell_type": "code",
   "execution_count": 16,
   "id": "e0c46031",
   "metadata": {},
   "outputs": [],
   "source": [
    "#Given an integer array nums and an integer k, return true \n",
    "#if there are two distinct indices i and j in the array such that nums[i] == nums[j] and abs(i - j) <= k.\n",
    "\n",
    "nums = [1,2,3,1]\n",
    "k = 3\n",
    "\n"
   ]
  },
  {
   "cell_type": "code",
   "execution_count": 18,
   "id": "5276aea9",
   "metadata": {},
   "outputs": [
    {
     "name": "stdout",
     "output_type": "stream",
     "text": [
      "1\n",
      "1\n",
      "2\n",
      "3\n",
      "1\n",
      "1\n"
     ]
    }
   ],
   "source": [
    "for i in range(len(nums)):\n",
    "    for j in range(len(nums)):\n",
    "        if nums[i] == nums[j]:\n",
    "            print(nums[i])\n",
    "    "
   ]
  },
  {
   "cell_type": "code",
   "execution_count": 23,
   "id": "037e9b62",
   "metadata": {},
   "outputs": [],
   "source": [
    "#The XOR total of an array is defined as the bitwise XOR of all its elements, or 0 if the array is empty.\n",
    "\n",
    "#For example, the XOR total of the array [2,5,6] is 2 XOR 5 XOR 6 = 1\n",
    "nums = [1,3,4,5]\n",
    "\n"
   ]
  },
  {
   "cell_type": "code",
   "execution_count": 59,
   "id": "68b7fa79",
   "metadata": {},
   "outputs": [
    {
     "name": "stdout",
     "output_type": "stream",
     "text": [
      "0\n",
      "3\n",
      "2\n",
      "7\n"
     ]
    },
    {
     "data": {
      "text/plain": [
       "7"
      ]
     },
     "execution_count": 59,
     "metadata": {},
     "output_type": "execute_result"
    }
   ],
   "source": [
    "\n",
    "length = len(nums)\n",
    "\n",
    "while length != 0:\n",
    "    sum1 = sum1 ^ nums[length-2]\n",
    "\n",
    "    print(sum1)\n",
    "    length = length - 1\n",
    "sum1"
   ]
  },
  {
   "cell_type": "code",
   "execution_count": 55,
   "id": "cba0b490",
   "metadata": {},
   "outputs": [
    {
     "data": {
      "text/plain": [
       "3"
      ]
     },
     "execution_count": 55,
     "metadata": {},
     "output_type": "execute_result"
    }
   ],
   "source": [
    "5 ^ 4 ^ 3 ^ 1"
   ]
  },
  {
   "cell_type": "code",
   "execution_count": 58,
   "id": "e41defc7",
   "metadata": {},
   "outputs": [
    {
     "data": {
      "text/plain": [
       "7"
      ]
     },
     "execution_count": 58,
     "metadata": {},
     "output_type": "execute_result"
    }
   ],
   "source": [
    "4 ^ 3"
   ]
  },
  {
   "cell_type": "code",
   "execution_count": 57,
   "id": "76384784",
   "metadata": {},
   "outputs": [
    {
     "data": {
      "text/plain": [
       "2"
      ]
     },
     "execution_count": 57,
     "metadata": {},
     "output_type": "execute_result"
    }
   ],
   "source": [
    "1 ^ 3"
   ]
  },
  {
   "cell_type": "code",
   "execution_count": 35,
   "id": "94747112",
   "metadata": {},
   "outputs": [
    {
     "data": {
      "text/plain": [
       "3"
      ]
     },
     "execution_count": 35,
     "metadata": {},
     "output_type": "execute_result"
    }
   ],
   "source": [
    "6 ^ 5"
   ]
  },
  {
   "cell_type": "code",
   "execution_count": 47,
   "id": "31f374b7",
   "metadata": {},
   "outputs": [
    {
     "data": {
      "text/plain": [
       "0"
      ]
     },
     "execution_count": 47,
     "metadata": {},
     "output_type": "execute_result"
    }
   ],
   "source": [
    "3 ^ 3"
   ]
  },
  {
   "cell_type": "code",
   "execution_count": 60,
   "id": "ad7ec9df",
   "metadata": {},
   "outputs": [
    {
     "data": {
      "text/plain": [
       "7"
      ]
     },
     "execution_count": 60,
     "metadata": {},
     "output_type": "execute_result"
    }
   ],
   "source": [
    "sum1"
   ]
  },
  {
   "cell_type": "markdown",
   "id": "5e01124e",
   "metadata": {},
   "source": [
    "### 10."
   ]
  },
  {
   "cell_type": "code",
   "execution_count": 89,
   "id": "d0eaab5b",
   "metadata": {},
   "outputs": [],
   "source": [
    "#Given a string of English letters s, return the greatest English letter which occurs as both a lowercase and uppercase letter in s. \n",
    "#The returned letter should be in uppercase. If no such letter exists, return an empty string.\n",
    "\n",
    "import string\n",
    "import numpy as np\n",
    "\n",
    "class Solution(object):\n",
    "    def greatestLetter(self, s):\n",
    "        \"\"\"\n",
    "        :type s: str\n",
    "        :rtype: str\n",
    "        \"\"\"\n",
    "        lower = []\n",
    "        upper = []\n",
    "        for i in s:\n",
    "            if i == i.lower():\n",
    "                lower.append(i)\n",
    "            if i == i.upper():\n",
    "                upper.append(i)\n",
    "\n",
    "        new_list = []\n",
    "        for i in lower:\n",
    "            if i.upper() in upper:\n",
    "                new_list.append(i.upper())\n",
    "        if len(new_list) != 0 and len(new_list) != 1:\n",
    "            uppered_lets = list(string.ascii_uppercase)\n",
    "            indexs = []\n",
    "            for i in new_list:\n",
    "                if i in uppered_lets:\n",
    "                    indexs.append(uppered_lets.index(i))\n",
    "            return uppered_lets[np.max(indexs)]\n",
    "        if len(new_list) == 1:\n",
    "            return new_list[0]\n",
    "        if len(new_list) == 0:\n",
    "            return ''\n"
   ]
  },
  {
   "cell_type": "code",
   "execution_count": 92,
   "id": "11e4a5ab",
   "metadata": {},
   "outputs": [
    {
     "data": {
      "text/plain": [
       "'A'"
      ]
     },
     "execution_count": 92,
     "metadata": {},
     "output_type": "execute_result"
    }
   ],
   "source": [
    "Solution().greatestLetter(s = 'Aea')"
   ]
  },
  {
   "cell_type": "code",
   "execution_count": 93,
   "id": "d371e148",
   "metadata": {},
   "outputs": [
    {
     "data": {
      "text/plain": [
       "''"
      ]
     },
     "execution_count": 93,
     "metadata": {},
     "output_type": "execute_result"
    }
   ],
   "source": [
    "Solution().greatestLetter(s = 'Hasan')"
   ]
  },
  {
   "cell_type": "code",
   "execution_count": 94,
   "id": "3710d0d9",
   "metadata": {},
   "outputs": [
    {
     "data": {
      "text/plain": [
       "'M'"
      ]
     },
     "execution_count": 94,
     "metadata": {},
     "output_type": "execute_result"
    }
   ],
   "source": [
    "Solution().greatestLetter(s = 'dayyyyuMmmm')"
   ]
  },
  {
   "cell_type": "code",
   "execution_count": 95,
   "id": "45397dfe",
   "metadata": {},
   "outputs": [
    {
     "data": {
      "text/plain": [
       "'M'"
      ]
     },
     "execution_count": 95,
     "metadata": {},
     "output_type": "execute_result"
    }
   ],
   "source": [
    "Solution().greatestLetter(s = 'AaBbCcDdMmZZ')"
   ]
  },
  {
   "cell_type": "code",
   "execution_count": null,
   "id": "3aa42c2b",
   "metadata": {},
   "outputs": [],
   "source": []
  }
 ],
 "metadata": {
  "kernelspec": {
   "display_name": "Python 3 (ipykernel)",
   "language": "python",
   "name": "python3"
  },
  "language_info": {
   "codemirror_mode": {
    "name": "ipython",
    "version": 3
   },
   "file_extension": ".py",
   "mimetype": "text/x-python",
   "name": "python",
   "nbconvert_exporter": "python",
   "pygments_lexer": "ipython3",
   "version": "3.10.8"
  }
 },
 "nbformat": 4,
 "nbformat_minor": 5
}
