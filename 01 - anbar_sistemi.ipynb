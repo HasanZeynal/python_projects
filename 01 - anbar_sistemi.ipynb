{
 "cells": [
  {
   "cell_type": "markdown",
   "id": "4dd085d4",
   "metadata": {},
   "source": [
    "# Question 1"
   ]
  },
  {
   "cell_type": "markdown",
   "id": "cd089fef",
   "metadata": {},
   "source": [
    "###### 10 ceshid mehsul var ve her mehsullarin qiymetleri ferqli valyuta novlerindedir. bu mehsullari satisha cixarmazdan evvel manat uzre satish qiymeti duzeltmeli ve cedvel sheklinde bazaya yigilmalidir. Cedveller istekden asili olaraq .csv ve ya .xlsx faylinda bazaya oturula biler."
   ]
  },
  {
   "cell_type": "code",
   "execution_count": 2,
   "id": "98d56dc8",
   "metadata": {},
   "outputs": [
    {
     "name": "stdout",
     "output_type": "stream",
     "text": [
      "Please Enter the product:Deep Learning with Python\n",
      "Please Enter the price:34\n",
      "Please Enter the type of currency:USD\n",
      "                     Product  Price Currency\n",
      "0  Deep Learning with Python   34.0      USD\n",
      "Please Enter the product:Mont\n",
      "Please Enter the price:200\n",
      "Please Enter the type of currency:AZN\n",
      "                     Product  Price Currency\n",
      "0  Deep Learning with Python   34.0      USD\n",
      "1                       Mont  200.0      AZN\n",
      "Please Enter the product:Saat\n",
      "Please Enter the price:45\n",
      "Please Enter the type of currency:TL\n",
      "                     Product  Price Currency\n",
      "0  Deep Learning with Python   34.0      USD\n",
      "1                       Mont  200.0      AZN\n",
      "2                       Saat   45.0       TL\n",
      "Please Enter the product:Sneaker\n",
      "Please Enter the price:450\n",
      "Please Enter the type of currency:TL\n",
      "                     Product  Price Currency\n",
      "0  Deep Learning with Python   34.0      USD\n",
      "1                       Mont  200.0      AZN\n",
      "2                       Saat   45.0       TL\n",
      "3                    Sneaker  450.0       TL\n",
      "Please Enter the product:Canta\n",
      "Please Enter the price:12\n",
      "Please Enter the type of currency:USD\n",
      "                     Product  Price Currency\n",
      "0  Deep Learning with Python   34.0      USD\n",
      "1                       Mont  200.0      AZN\n",
      "2                       Saat   45.0       TL\n",
      "3                    Sneaker  450.0       TL\n",
      "4                      Canta   12.0      USD\n",
      "Please Enter the product:Xbox Wireless Controller\n",
      "Please Enter the price:1290\n",
      "Please Enter the type of currency:USD\n",
      "                     Product   Price Currency\n",
      "0  Deep Learning with Python    34.0      USD\n",
      "1                       Mont   200.0      AZN\n",
      "2                       Saat    45.0       TL\n",
      "3                    Sneaker   450.0       TL\n",
      "4                      Canta    12.0      USD\n",
      "5   Xbox Wireless Controller  1290.0      USD\n",
      "Please Enter the product:Top\n",
      "Please Enter the price:45\n",
      "Please Enter the type of currency:AZN\n",
      "                     Product   Price Currency\n",
      "0  Deep Learning with Python    34.0      USD\n",
      "1                       Mont   200.0      AZN\n",
      "2                       Saat    45.0       TL\n",
      "3                    Sneaker   450.0       TL\n",
      "4                      Canta    12.0      USD\n",
      "5   Xbox Wireless Controller  1290.0      USD\n",
      "6                        Top    45.0      AZN\n",
      "Please Enter the product:NLP with Python\n",
      "Please Enter the price:213\n",
      "Please Enter the type of currency:USD\n",
      "                     Product   Price Currency\n",
      "0  Deep Learning with Python    34.0      USD\n",
      "1                       Mont   200.0      AZN\n",
      "2                       Saat    45.0       TL\n",
      "3                    Sneaker   450.0       TL\n",
      "4                      Canta    12.0      USD\n",
      "5   Xbox Wireless Controller  1290.0      USD\n",
      "6                        Top    45.0      AZN\n",
      "7            NLP with Python   213.0      USD\n",
      "Please Enter the product:Krampon\n",
      "Please Enter the price:145\n",
      "Please Enter the type of currency:TL\n",
      "                     Product   Price Currency\n",
      "0  Deep Learning with Python    34.0      USD\n",
      "1                       Mont   200.0      AZN\n",
      "2                       Saat    45.0       TL\n",
      "3                    Sneaker   450.0       TL\n",
      "4                      Canta    12.0      USD\n",
      "5   Xbox Wireless Controller  1290.0      USD\n",
      "6                        Top    45.0      AZN\n",
      "7            NLP with Python   213.0      USD\n",
      "8                    Krampon   145.0       TL\n",
      "Please Enter the product:Esofman\n",
      "Please Enter the price:235.99\n",
      "Please Enter the type of currency:TL\n",
      "                     Product    Price Currency\n",
      "0  Deep Learning with Python    34.00      USD\n",
      "1                       Mont   200.00      AZN\n",
      "2                       Saat    45.00       TL\n",
      "3                    Sneaker   450.00       TL\n",
      "4                      Canta    12.00      USD\n",
      "5   Xbox Wireless Controller  1290.00      USD\n",
      "6                        Top    45.00      AZN\n",
      "7            NLP with Python   213.00      USD\n",
      "8                    Krampon   145.00       TL\n",
      "9                    Esofman   235.99       TL\n"
     ]
    }
   ],
   "source": [
    "import pandas as pd\n",
    "\n",
    "products = []\n",
    "prices = []\n",
    "currencies = []\n",
    "\n",
    "for i in range(1,11):\n",
    "    product = input('Please Enter the product:')\n",
    "    products.append(product)\n",
    "    price = float(input('Please Enter the price:'))\n",
    "    prices.append(price)\n",
    "    currency = input('Please Enter the type of currency:')\n",
    "    currencies.append(currency)\n",
    "    #print(f\"Information about {i} product:{product,price,currency}\")\n",
    "    all_data = list(zip(products,prices,currencies))\n",
    "    df = pd.DataFrame(all_data,columns = ['Product','Price','Currency'])\n",
    "    print(df)"
   ]
  },
  {
   "cell_type": "code",
   "execution_count": 5,
   "id": "9b96e997",
   "metadata": {},
   "outputs": [],
   "source": [
    "df.to_csv('mehsul.csv',index=False)"
   ]
  },
  {
   "cell_type": "code",
   "execution_count": 36,
   "id": "29f49810",
   "metadata": {},
   "outputs": [
    {
     "data": {
      "text/html": [
       "<div>\n",
       "<style scoped>\n",
       "    .dataframe tbody tr th:only-of-type {\n",
       "        vertical-align: middle;\n",
       "    }\n",
       "\n",
       "    .dataframe tbody tr th {\n",
       "        vertical-align: top;\n",
       "    }\n",
       "\n",
       "    .dataframe thead th {\n",
       "        text-align: right;\n",
       "    }\n",
       "</style>\n",
       "<table border=\"1\" class=\"dataframe\">\n",
       "  <thead>\n",
       "    <tr style=\"text-align: right;\">\n",
       "      <th></th>\n",
       "      <th>Product</th>\n",
       "      <th>Price</th>\n",
       "      <th>Currency</th>\n",
       "    </tr>\n",
       "  </thead>\n",
       "  <tbody>\n",
       "    <tr>\n",
       "      <th>0</th>\n",
       "      <td>Deep Learning with Python</td>\n",
       "      <td>34.00</td>\n",
       "      <td>USD</td>\n",
       "    </tr>\n",
       "    <tr>\n",
       "      <th>1</th>\n",
       "      <td>Mont</td>\n",
       "      <td>200.00</td>\n",
       "      <td>AZN</td>\n",
       "    </tr>\n",
       "    <tr>\n",
       "      <th>2</th>\n",
       "      <td>Saat</td>\n",
       "      <td>45.00</td>\n",
       "      <td>TL</td>\n",
       "    </tr>\n",
       "    <tr>\n",
       "      <th>3</th>\n",
       "      <td>Sneaker</td>\n",
       "      <td>450.00</td>\n",
       "      <td>TL</td>\n",
       "    </tr>\n",
       "    <tr>\n",
       "      <th>4</th>\n",
       "      <td>Canta</td>\n",
       "      <td>12.00</td>\n",
       "      <td>USD</td>\n",
       "    </tr>\n",
       "    <tr>\n",
       "      <th>5</th>\n",
       "      <td>Xbox Wireless Controller</td>\n",
       "      <td>1290.00</td>\n",
       "      <td>USD</td>\n",
       "    </tr>\n",
       "    <tr>\n",
       "      <th>6</th>\n",
       "      <td>Top</td>\n",
       "      <td>45.00</td>\n",
       "      <td>AZN</td>\n",
       "    </tr>\n",
       "    <tr>\n",
       "      <th>7</th>\n",
       "      <td>NLP with Python</td>\n",
       "      <td>213.00</td>\n",
       "      <td>USD</td>\n",
       "    </tr>\n",
       "    <tr>\n",
       "      <th>8</th>\n",
       "      <td>Krampon</td>\n",
       "      <td>145.00</td>\n",
       "      <td>TL</td>\n",
       "    </tr>\n",
       "    <tr>\n",
       "      <th>9</th>\n",
       "      <td>Esofman</td>\n",
       "      <td>235.99</td>\n",
       "      <td>TL</td>\n",
       "    </tr>\n",
       "  </tbody>\n",
       "</table>\n",
       "</div>"
      ],
      "text/plain": [
       "                     Product    Price Currency\n",
       "0  Deep Learning with Python    34.00      USD\n",
       "1                       Mont   200.00      AZN\n",
       "2                       Saat    45.00       TL\n",
       "3                    Sneaker   450.00       TL\n",
       "4                      Canta    12.00      USD\n",
       "5   Xbox Wireless Controller  1290.00      USD\n",
       "6                        Top    45.00      AZN\n",
       "7            NLP with Python   213.00      USD\n",
       "8                    Krampon   145.00       TL\n",
       "9                    Esofman   235.99       TL"
      ]
     },
     "execution_count": 36,
     "metadata": {},
     "output_type": "execute_result"
    }
   ],
   "source": [
    "mehsul_df = pd.read_csv('mehsul.csv')\n",
    "mehsul_df"
   ]
  },
  {
   "cell_type": "code",
   "execution_count": 53,
   "id": "5368e9e0",
   "metadata": {},
   "outputs": [],
   "source": [
    "prices = []\n",
    "currencies = []\n",
    "products = []\n",
    "for price in mehsul_df.Price:\n",
    "    prices.append(price)\n",
    "for currency in mehsul_df.Currency:\n",
    "    currencies.append(currency)\n",
    "for product in mehsul_df.Product:\n",
    "    products.append(product)\n",
    "#print(currencies,prices)\n",
    "all_data = list(zip(currencies,prices))"
   ]
  },
  {
   "cell_type": "code",
   "execution_count": 54,
   "id": "e20a469c",
   "metadata": {},
   "outputs": [],
   "source": [
    "price_in_azn = []\n",
    "for currency,price in all_data:\n",
    "    if currency == 'USD':\n",
    "        price_in_azn.append(round(price * 1.7,2))\n",
    "    elif currency == 'TL':\n",
    "        price_in_azn.append(round(price * 0.09,2))\n",
    "    elif currency == 'AZN':\n",
    "        price_in_azn.append(round(price,2))"
   ]
  },
  {
   "cell_type": "code",
   "execution_count": 55,
   "id": "9ea05dd8",
   "metadata": {},
   "outputs": [
    {
     "data": {
      "text/plain": [
       "[57.8, 200.0, 4.05, 40.5, 20.4, 2193.0, 45.0, 362.1, 13.05, 21.24]"
      ]
     },
     "execution_count": 55,
     "metadata": {},
     "output_type": "execute_result"
    }
   ],
   "source": [
    "price_in_azn"
   ]
  },
  {
   "cell_type": "code",
   "execution_count": 56,
   "id": "163e487f",
   "metadata": {},
   "outputs": [
    {
     "data": {
      "text/plain": [
       "[('Deep Learning with Python', 34.0, 'USD', 57.8),\n",
       " ('Mont', 200.0, 'AZN', 200.0),\n",
       " ('Saat', 45.0, 'TL', 4.05),\n",
       " ('Sneaker', 450.0, 'TL', 40.5),\n",
       " ('Canta', 12.0, 'USD', 20.4),\n",
       " ('Xbox Wireless Controller', 1290.0, 'USD', 2193.0),\n",
       " ('Top', 45.0, 'AZN', 45.0),\n",
       " ('NLP with Python', 213.0, 'USD', 362.1),\n",
       " ('Krampon', 145.0, 'TL', 13.05),\n",
       " ('Esofman', 235.99, 'TL', 21.24)]"
      ]
     },
     "execution_count": 56,
     "metadata": {},
     "output_type": "execute_result"
    }
   ],
   "source": [
    "my_df = list(zip(products,prices,currencies,price_in_azn))\n",
    "my_df"
   ]
  },
  {
   "cell_type": "code",
   "execution_count": 57,
   "id": "053c5b63",
   "metadata": {},
   "outputs": [],
   "source": [
    "mehsul_df = pd.DataFrame(data = my_df,columns=['Product','Price','Currency','Price_azn'])"
   ]
  },
  {
   "cell_type": "code",
   "execution_count": 59,
   "id": "6e18ecc8",
   "metadata": {},
   "outputs": [],
   "source": [
    "mehsul_df.to_csv('final_data.csv',index=False)"
   ]
  },
  {
   "cell_type": "code",
   "execution_count": 60,
   "id": "8dac2352",
   "metadata": {},
   "outputs": [
    {
     "data": {
      "text/html": [
       "<div>\n",
       "<style scoped>\n",
       "    .dataframe tbody tr th:only-of-type {\n",
       "        vertical-align: middle;\n",
       "    }\n",
       "\n",
       "    .dataframe tbody tr th {\n",
       "        vertical-align: top;\n",
       "    }\n",
       "\n",
       "    .dataframe thead th {\n",
       "        text-align: right;\n",
       "    }\n",
       "</style>\n",
       "<table border=\"1\" class=\"dataframe\">\n",
       "  <thead>\n",
       "    <tr style=\"text-align: right;\">\n",
       "      <th></th>\n",
       "      <th>Product</th>\n",
       "      <th>Price</th>\n",
       "      <th>Currency</th>\n",
       "      <th>Price_azn</th>\n",
       "    </tr>\n",
       "  </thead>\n",
       "  <tbody>\n",
       "    <tr>\n",
       "      <th>0</th>\n",
       "      <td>Deep Learning with Python</td>\n",
       "      <td>34.00</td>\n",
       "      <td>USD</td>\n",
       "      <td>57.80</td>\n",
       "    </tr>\n",
       "    <tr>\n",
       "      <th>1</th>\n",
       "      <td>Mont</td>\n",
       "      <td>200.00</td>\n",
       "      <td>AZN</td>\n",
       "      <td>200.00</td>\n",
       "    </tr>\n",
       "    <tr>\n",
       "      <th>2</th>\n",
       "      <td>Saat</td>\n",
       "      <td>45.00</td>\n",
       "      <td>TL</td>\n",
       "      <td>4.05</td>\n",
       "    </tr>\n",
       "    <tr>\n",
       "      <th>3</th>\n",
       "      <td>Sneaker</td>\n",
       "      <td>450.00</td>\n",
       "      <td>TL</td>\n",
       "      <td>40.50</td>\n",
       "    </tr>\n",
       "    <tr>\n",
       "      <th>4</th>\n",
       "      <td>Canta</td>\n",
       "      <td>12.00</td>\n",
       "      <td>USD</td>\n",
       "      <td>20.40</td>\n",
       "    </tr>\n",
       "    <tr>\n",
       "      <th>5</th>\n",
       "      <td>Xbox Wireless Controller</td>\n",
       "      <td>1290.00</td>\n",
       "      <td>USD</td>\n",
       "      <td>2193.00</td>\n",
       "    </tr>\n",
       "    <tr>\n",
       "      <th>6</th>\n",
       "      <td>Top</td>\n",
       "      <td>45.00</td>\n",
       "      <td>AZN</td>\n",
       "      <td>45.00</td>\n",
       "    </tr>\n",
       "    <tr>\n",
       "      <th>7</th>\n",
       "      <td>NLP with Python</td>\n",
       "      <td>213.00</td>\n",
       "      <td>USD</td>\n",
       "      <td>362.10</td>\n",
       "    </tr>\n",
       "    <tr>\n",
       "      <th>8</th>\n",
       "      <td>Krampon</td>\n",
       "      <td>145.00</td>\n",
       "      <td>TL</td>\n",
       "      <td>13.05</td>\n",
       "    </tr>\n",
       "    <tr>\n",
       "      <th>9</th>\n",
       "      <td>Esofman</td>\n",
       "      <td>235.99</td>\n",
       "      <td>TL</td>\n",
       "      <td>21.24</td>\n",
       "    </tr>\n",
       "  </tbody>\n",
       "</table>\n",
       "</div>"
      ],
      "text/plain": [
       "                     Product    Price Currency  Price_azn\n",
       "0  Deep Learning with Python    34.00      USD      57.80\n",
       "1                       Mont   200.00      AZN     200.00\n",
       "2                       Saat    45.00       TL       4.05\n",
       "3                    Sneaker   450.00       TL      40.50\n",
       "4                      Canta    12.00      USD      20.40\n",
       "5   Xbox Wireless Controller  1290.00      USD    2193.00\n",
       "6                        Top    45.00      AZN      45.00\n",
       "7            NLP with Python   213.00      USD     362.10\n",
       "8                    Krampon   145.00       TL      13.05\n",
       "9                    Esofman   235.99       TL      21.24"
      ]
     },
     "execution_count": 60,
     "metadata": {},
     "output_type": "execute_result"
    }
   ],
   "source": [
    "final_data = pd.read_csv('final_data.csv')\n",
    "final_data"
   ]
  },
  {
   "cell_type": "markdown",
   "id": "84986f03",
   "metadata": {},
   "source": [
    "# Question 2\n",
    "#### Class icerisinde mushteri bazasi,anbar sistemi, yigilsin mehsul kodu olan ve qiymeti gorsenen bazaniz olsun. Bazani istediyiniz satish saytindan elde ede bilersiniz. ve bazadan her deqiqe satish edildikce cek vere bilsin. ve satilan her bir mehsul sayini muvafiq mehsuldan cixsin. en sonda gundelik heftelik ayliq ve illik anbar satish hesabati vere bilen sistem ishlemeye bashlasin."
   ]
  },
  {
   "cell_type": "markdown",
   "id": "3570b5b9",
   "metadata": {},
   "source": [
    "<div class=\"alert alert-block alert-danger\">\n",
    "<b>with function:</b>\n",
    "</div>"
   ]
  },
  {
   "cell_type": "code",
   "execution_count": 49,
   "id": "36261d13",
   "metadata": {},
   "outputs": [
    {
     "name": "stdout",
     "output_type": "stream",
     "text": [
      "How many products do you want? 2\n",
      "The name of product: Car\n",
      "The number of product: 10\n",
      "The name of product: Phone\n",
      "The number of product: 10\n"
     ]
    },
    {
     "data": {
      "text/plain": [
       "{'Car': 10, 'Phone': 10}"
      ]
     },
     "metadata": {},
     "output_type": "display_data"
    },
    {
     "name": "stdout",
     "output_type": "stream",
     "text": [
      "Please,Enter the products price: 25000\n",
      "Please,Enter the products price: 2500\n"
     ]
    },
    {
     "data": {
      "text/plain": [
       "{'Car': 25000, 'Phone': 2500}"
      ]
     },
     "metadata": {},
     "output_type": "display_data"
    },
    {
     "name": "stdout",
     "output_type": "stream",
     "text": [
      "How many products do you want? 2\n",
      "Which product? Car\n",
      "How many of it? 1\n",
      "Which product? Phone\n",
      "How many of it? 2\n",
      "Your debt is 30000\n",
      "******************\n",
      "The store house:\n"
     ]
    },
    {
     "data": {
      "text/plain": [
       "{'Car': 9, 'Phone': 8}"
      ]
     },
     "metadata": {},
     "output_type": "display_data"
    }
   ],
   "source": [
    "import pandas as pd\n",
    "def sale():\n",
    "    #anbar\n",
    "    anbar = {}\n",
    "    mehsul_ad = []\n",
    "    mehsul_say = []\n",
    "    types = int(input('How many products do you want? '))\n",
    "    for i in range(types):\n",
    "        mehsul_adi = str(input('The name of product: '))\n",
    "        mehsul_sayi = int(input('The number of product: '))\n",
    "        mehsul_ad.append(mehsul_adi)\n",
    "        mehsul_say.append(mehsul_sayi)\n",
    "        anbar = dict(zip(mehsul_ad,mehsul_say))\n",
    "    display(anbar)\n",
    "    \n",
    "    #price       \n",
    "    price = {}\n",
    "    prices = []\n",
    "    for n in range(types):     \n",
    "        price = int(input('Please,Enter the products price: '))\n",
    "        prices.append(price)\n",
    "        price = dict(zip(mehsul_ad,prices))\n",
    "    display(price)\n",
    "    \n",
    "    #satish ve musteri\n",
    "    debt = 0\n",
    "    say_list = []\n",
    "    final = {}\n",
    "    n = int(input('How many products do you want? '))\n",
    "    for n in range(n):\n",
    "        product = str(input('Which product? '))\n",
    "        quantity = int(input('How many of it? '))\n",
    "        for ad,say in price.items():\n",
    "            if product == ad: \n",
    "                debt += price[product] * quantity\n",
    "                #final anbar\n",
    "                say_list.append(anbar[product] - quantity)\n",
    "    final = dict(zip(mehsul_ad,say_list))\n",
    "    print(f\"Your debt is {debt}\")\n",
    "    print('******************')\n",
    "    print('The store house:')\n",
    "    display(final)\n",
    "#         if product in mehsul_ad:\n",
    "            \n",
    "#         else:\n",
    "#             print('Sorry,We dont have that product')\n",
    "sale()"
   ]
  },
  {
   "cell_type": "markdown",
   "id": "eda831bb",
   "metadata": {},
   "source": [
    "<div class=\"alert alert-block alert-danger\">\n",
    "<b>with class:</b>\n",
    "</div>"
   ]
  },
  {
   "cell_type": "code",
   "execution_count": null,
   "id": "84d7cd08",
   "metadata": {},
   "outputs": [],
   "source": []
  },
  {
   "cell_type": "code",
   "execution_count": null,
   "id": "5a83859b",
   "metadata": {},
   "outputs": [],
   "source": []
  },
  {
   "cell_type": "code",
   "execution_count": null,
   "id": "8f2355df",
   "metadata": {},
   "outputs": [],
   "source": []
  },
  {
   "cell_type": "code",
   "execution_count": null,
   "id": "bdfc01e4",
   "metadata": {},
   "outputs": [],
   "source": []
  },
  {
   "cell_type": "code",
   "execution_count": null,
   "id": "29a3ec4f",
   "metadata": {},
   "outputs": [],
   "source": []
  },
  {
   "cell_type": "code",
   "execution_count": null,
   "id": "3975aa8e",
   "metadata": {},
   "outputs": [],
   "source": []
  },
  {
   "cell_type": "code",
   "execution_count": null,
   "id": "96a35d5a",
   "metadata": {},
   "outputs": [],
   "source": []
  },
  {
   "cell_type": "markdown",
   "id": "67e43082",
   "metadata": {},
   "source": [
    "<div class=\"alert alert-block alert-danger\">\n",
    "<b>with pandas:</b>\n",
    "</div>"
   ]
  },
  {
   "cell_type": "code",
   "execution_count": null,
   "id": "48f56577",
   "metadata": {},
   "outputs": [],
   "source": []
  },
  {
   "cell_type": "code",
   "execution_count": null,
   "id": "12b4a409",
   "metadata": {},
   "outputs": [],
   "source": []
  },
  {
   "cell_type": "code",
   "execution_count": null,
   "id": "baafb8de",
   "metadata": {},
   "outputs": [],
   "source": []
  },
  {
   "cell_type": "code",
   "execution_count": null,
   "id": "11399c0d",
   "metadata": {},
   "outputs": [],
   "source": []
  },
  {
   "cell_type": "code",
   "execution_count": null,
   "id": "5963a762",
   "metadata": {},
   "outputs": [],
   "source": []
  }
 ],
 "metadata": {
  "kernelspec": {
   "display_name": "Python 3 (ipykernel)",
   "language": "python",
   "name": "python3"
  },
  "language_info": {
   "codemirror_mode": {
    "name": "ipython",
    "version": 3
   },
   "file_extension": ".py",
   "mimetype": "text/x-python",
   "name": "python",
   "nbconvert_exporter": "python",
   "pygments_lexer": "ipython3",
   "version": "3.10.8"
  }
 },
 "nbformat": 4,
 "nbformat_minor": 5
}
