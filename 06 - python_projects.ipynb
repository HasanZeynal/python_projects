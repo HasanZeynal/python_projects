{
 "cells": [
  {
   "cell_type": "code",
   "execution_count": 1,
   "id": "fbcc6bc1",
   "metadata": {},
   "outputs": [],
   "source": [
    "import random\n",
    "import numpy as np"
   ]
  },
  {
   "cell_type": "markdown",
   "id": "e36b62df",
   "metadata": {},
   "source": [
    "# 1."
   ]
  },
  {
   "cell_type": "code",
   "execution_count": 6,
   "id": "05d46c4c",
   "metadata": {},
   "outputs": [
    {
     "data": {
      "text/plain": [
       "-4123"
      ]
     },
     "execution_count": 6,
     "metadata": {},
     "output_type": "execute_result"
    }
   ],
   "source": [
    "#string to integer\n",
    "\n",
    "s = '4123 ada-'\n",
    "result = 1\n",
    "new_list = []\n",
    "for i in s:\n",
    "    if i in ['1','2','3','4','5','6','7','8','9','10','0']:\n",
    "        new_list.append(i)\n",
    "    if i == '-':\n",
    "        result = result * (-1)\n",
    "int(''.join(new_list)) * result"
   ]
  },
  {
   "cell_type": "markdown",
   "id": "3be8836d",
   "metadata": {},
   "source": [
    "# 2."
   ]
  },
  {
   "cell_type": "code",
   "execution_count": 2,
   "id": "9b286248",
   "metadata": {},
   "outputs": [],
   "source": [
    "#find the indexes that when we subtract them is equal to the target\n",
    "\n",
    "nums = [2,7,11,15]\n",
    "target = 9"
   ]
  },
  {
   "cell_type": "code",
   "execution_count": 10,
   "id": "76b8e3b3",
   "metadata": {},
   "outputs": [
    {
     "name": "stdout",
     "output_type": "stream",
     "text": [
      "0 1\n"
     ]
    }
   ],
   "source": [
    "for i in range(len(nums)-1):\n",
    "    for j in range(1,len(nums)):\n",
    "        if nums[i] + nums[j] == target:\n",
    "            print(i,j)"
   ]
  },
  {
   "cell_type": "code",
   "execution_count": null,
   "id": "ab2273be",
   "metadata": {},
   "outputs": [],
   "source": []
  },
  {
   "cell_type": "markdown",
   "id": "31b16586",
   "metadata": {},
   "source": [
    "# 3."
   ]
  },
  {
   "cell_type": "code",
   "execution_count": null,
   "id": "044e860a",
   "metadata": {},
   "outputs": [],
   "source": []
  },
  {
   "cell_type": "markdown",
   "id": "b1f18f08",
   "metadata": {},
   "source": [
    "# 4."
   ]
  },
  {
   "cell_type": "code",
   "execution_count": null,
   "id": "cdb5ae2f",
   "metadata": {},
   "outputs": [],
   "source": []
  },
  {
   "cell_type": "code",
   "execution_count": null,
   "id": "29c9625f",
   "metadata": {},
   "outputs": [],
   "source": []
  },
  {
   "cell_type": "markdown",
   "id": "72a9c867",
   "metadata": {},
   "source": [
    "# 5."
   ]
  },
  {
   "cell_type": "code",
   "execution_count": null,
   "id": "6fa843c3",
   "metadata": {},
   "outputs": [],
   "source": []
  },
  {
   "cell_type": "code",
   "execution_count": null,
   "id": "7cbf0016",
   "metadata": {},
   "outputs": [],
   "source": []
  },
  {
   "cell_type": "markdown",
   "id": "7315a613",
   "metadata": {},
   "source": [
    "# 6."
   ]
  },
  {
   "cell_type": "code",
   "execution_count": 55,
   "id": "bc7e8fd3",
   "metadata": {},
   "outputs": [],
   "source": [
    "#\n",
    "grid = [[9,9,8,1],[5,6,2,6],[8,2,6,4],[6,2,2,2]]\n"
   ]
  },
  {
   "cell_type": "code",
   "execution_count": 65,
   "id": "4911a64f",
   "metadata": {},
   "outputs": [],
   "source": [
    "storeIntRoman = [[1000, \"M\"], [900, \"CM\"], [500, \"D\"], [400, \"CD\"], [100, \"C\"], \n",
    "                [90, \"XC\"], [50, \"L\"], [40, \"XL\"], [10, \"X\"], [9, \"IX\"], [5, \"V\"], [4, \"IV\"], [1, \"I\"]]\n",
    "\n"
   ]
  },
  {
   "cell_type": "markdown",
   "id": "5bd3e14e",
   "metadata": {},
   "source": [
    "# 7."
   ]
  },
  {
   "cell_type": "code",
   "execution_count": 50,
   "id": "a39903c0",
   "metadata": {},
   "outputs": [],
   "source": [
    "#Given a string s, reverse the order of characters in each word within a sentence \n",
    "#while still preserving whitespace and initial word order.\n",
    "\n",
    "s = \"Let's take LeetCode contest\""
   ]
  },
  {
   "cell_type": "code",
   "execution_count": 54,
   "id": "864c2a7c",
   "metadata": {},
   "outputs": [
    {
     "data": {
      "text/plain": [
       "\"s'teL ekat edoCteeL tsetnoc\""
      ]
     },
     "execution_count": 54,
     "metadata": {},
     "output_type": "execute_result"
    }
   ],
   "source": [
    "new_list = []\n",
    "for i in s.split(' '):\n",
    "    new_list.append(i[::-1])\n",
    "' '.join(new_list)"
   ]
  },
  {
   "cell_type": "markdown",
   "id": "e8c90509",
   "metadata": {},
   "source": [
    "# 8."
   ]
  },
  {
   "cell_type": "code",
   "execution_count": 44,
   "id": "8c3e17ec",
   "metadata": {},
   "outputs": [],
   "source": [
    "#You're given strings jewels representing the types of stones that are jewels, and stones representing the stones you have. \n",
    "#Each character in stones is a type of stone you have. You want to know how many of the stones you have are also jewels.\n",
    "\n",
    "#Letters are case sensitive, so \"a\" is considered a different type of stone from \"A\".\n",
    "\n",
    "jewels = \"aA\"\n",
    "stones = \"aAAbbbb\""
   ]
  },
  {
   "cell_type": "code",
   "execution_count": 49,
   "id": "21d43145",
   "metadata": {},
   "outputs": [
    {
     "data": {
      "text/plain": [
       "3"
      ]
     },
     "execution_count": 49,
     "metadata": {},
     "output_type": "execute_result"
    }
   ],
   "source": [
    "count = 0\n",
    "for i in stones:\n",
    "    if i in jewels:\n",
    "        count += 1\n",
    "count"
   ]
  },
  {
   "cell_type": "markdown",
   "id": "5b89d4c8",
   "metadata": {},
   "source": [
    "# 9."
   ]
  },
  {
   "cell_type": "code",
   "execution_count": 40,
   "id": "e492bef2",
   "metadata": {},
   "outputs": [],
   "source": [
    "#Given an integer n, return a string array answer (1-indexed) where:\n",
    "\n",
    "#answer[i] == \"FizzBuzz\" if i is divisible by 3 and 5.\n",
    "#answer[i] == \"Fizz\" if i is divisible by 3.\n",
    "#answer[i] == \"Buzz\" if i is divisible by 5.\n",
    "#answer[i] == i (as a string) if none of the above conditions are true\n",
    "\n",
    "num = 15"
   ]
  },
  {
   "cell_type": "code",
   "execution_count": 43,
   "id": "dacd6d25",
   "metadata": {},
   "outputs": [
    {
     "data": {
      "text/plain": [
       "['1',\n",
       " '2',\n",
       " 'Fizz',\n",
       " '4',\n",
       " 'Buzz',\n",
       " 'Fizz',\n",
       " '7',\n",
       " '8',\n",
       " 'Fizz',\n",
       " 'Buzz',\n",
       " '11',\n",
       " 'Fizz',\n",
       " '13',\n",
       " '14',\n",
       " '15']"
      ]
     },
     "execution_count": 43,
     "metadata": {},
     "output_type": "execute_result"
    }
   ],
   "source": [
    "new_list = list()\n",
    "for i in range(1,num+1):\n",
    "    if i % 3 == 0 and i % 5 != 0:\n",
    "        new_list.append('Fizz')\n",
    "    elif i % 3 != 0 and i % 5 == 0:\n",
    "        new_list.append('Buzz')\n",
    "    elif i % 3 == 0 and i % 5 != 0:\n",
    "        new_list.append('FizzBuzz')\n",
    "    else:\n",
    "        new_list.append(str(i))\n",
    "new_list"
   ]
  },
  {
   "cell_type": "markdown",
   "id": "623a3c74",
   "metadata": {},
   "source": [
    "# 10."
   ]
  },
  {
   "cell_type": "code",
   "execution_count": 37,
   "id": "9d341e0a",
   "metadata": {},
   "outputs": [],
   "source": [
    "#Given an integer array nums of 2n integers, group these integers into n pairs (a1, b1), (a2, b2), ...,\n",
    "#(an, bn) such that the sum of min(ai, bi) for all i is maximized. Return the maximized sum.\n",
    "\n",
    "nums = [6,2,6,5,1,2]"
   ]
  },
  {
   "cell_type": "code",
   "execution_count": 38,
   "id": "903dabce",
   "metadata": {},
   "outputs": [
    {
     "data": {
      "text/plain": [
       "9"
      ]
     },
     "execution_count": 38,
     "metadata": {},
     "output_type": "execute_result"
    }
   ],
   "source": [
    "class Solution(object):\n",
    "    def arrayPairSum(self, nums):\n",
    "        \"\"\"\n",
    "        :type nums: List[int]\n",
    "        :rtype: int\n",
    "        \"\"\"\n",
    "        new_list = []\n",
    "        for i in range(1,len(nums)+1):\n",
    "            if i % 2 == 1:\n",
    "                new_list.append(sorted(nums)[i-1])\n",
    "        return np.sum(new_list)\n",
    "Solution().arrayPairSum(nums)"
   ]
  }
 ],
 "metadata": {
  "kernelspec": {
   "display_name": "Python 3 (ipykernel)",
   "language": "python",
   "name": "python3"
  },
  "language_info": {
   "codemirror_mode": {
    "name": "ipython",
    "version": 3
   },
   "file_extension": ".py",
   "mimetype": "text/x-python",
   "name": "python",
   "nbconvert_exporter": "python",
   "pygments_lexer": "ipython3",
   "version": "3.9.13"
  }
 },
 "nbformat": 4,
 "nbformat_minor": 5
}
