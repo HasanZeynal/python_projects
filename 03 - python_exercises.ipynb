{
 "cells": [
  {
   "cell_type": "code",
   "execution_count": 1,
   "id": "b48f1d3c",
   "metadata": {},
   "outputs": [],
   "source": [
    "import numpy as np"
   ]
  },
  {
   "cell_type": "markdown",
   "id": "3fe85a48",
   "metadata": {},
   "source": [
    "# 1."
   ]
  },
  {
   "cell_type": "code",
   "execution_count": 23,
   "id": "925d784d",
   "metadata": {},
   "outputs": [],
   "source": [
    "#Given a string s consisting of words and spaces, return the length of the last word in the string.\n",
    "s = \"Hello World  \""
   ]
  },
  {
   "cell_type": "code",
   "execution_count": 24,
   "id": "20a06871",
   "metadata": {},
   "outputs": [
    {
     "data": {
      "text/plain": [
       "0"
      ]
     },
     "execution_count": 24,
     "metadata": {},
     "output_type": "execute_result"
    }
   ],
   "source": [
    "space = False\n",
    "count = 0\n",
    "for i in range(len(s)):\n",
    "    if s[len(s)-i-1] == ' ':\n",
    "        space = True\n",
    "        #print('a')\n",
    "    if s[len(s)-1-i] != ' ' and space is False:\n",
    "        count += 1\n",
    "        #print('b')\n",
    "count"
   ]
  },
  {
   "cell_type": "markdown",
   "id": "1697d301",
   "metadata": {},
   "source": [
    "# 2."
   ]
  },
  {
   "cell_type": "code",
   "execution_count": 28,
   "id": "ca20c10f",
   "metadata": {},
   "outputs": [],
   "source": [
    "#Given an array of positive integers arr, return the sum of all possible odd-length subarrays of arr.\n",
    "\n",
    "#A subarray is a contiguous subsequence of the array.\n",
    "\n",
    "arr = [1,4,2,5,3]"
   ]
  },
  {
   "cell_type": "code",
   "execution_count": 27,
   "id": "1e9b5512",
   "metadata": {},
   "outputs": [
    {
     "name": "stdout",
     "output_type": "stream",
     "text": [
      "1\n"
     ]
    }
   ],
   "source": [
    "if len(arr) % 2 == 1:\n",
    "    print(1)"
   ]
  },
  {
   "cell_type": "markdown",
   "id": "9ae0076f",
   "metadata": {},
   "source": [
    "# 3."
   ]
  },
  {
   "cell_type": "code",
   "execution_count": 72,
   "id": "b463de9b",
   "metadata": {},
   "outputs": [],
   "source": [
    "#You are given a 0-indexed two-dimensional integer array nums.\n",
    "\n",
    "#Return the largest prime number that lies on at least one of the diagonals of nums. \n",
    "#In case, no prime is present on any of the diagonals, return 0.\n",
    "\n",
    "nums = [[1,2,3],[5,6,7],[12,10,11]]"
   ]
  },
  {
   "cell_type": "code",
   "execution_count": 73,
   "id": "f59f87b0",
   "metadata": {},
   "outputs": [
    {
     "data": {
      "text/plain": [
       "12"
      ]
     },
     "execution_count": 73,
     "metadata": {},
     "output_type": "execute_result"
    }
   ],
   "source": [
    "max_number = 0\n",
    "for i,j in enumerate(nums):\n",
    "    if nums[i][i] > max_number:\n",
    "        max_number = nums[i][i]\n",
    "    if nums[i][len(nums[i])-i-1] > max_number:\n",
    "        max_number = nums[i][len(nums[i])-i-1]\n",
    "    \n",
    "max_number"
   ]
  },
  {
   "cell_type": "markdown",
   "id": "6f21af54",
   "metadata": {},
   "source": [
    "# 4."
   ]
  },
  {
   "cell_type": "code",
   "execution_count": 75,
   "id": "fd18e3d3",
   "metadata": {},
   "outputs": [],
   "source": [
    "#You are given a positive integer num consisting only of digits 6 and 9.\n",
    "\n",
    "#Return the maximum number you can get by changing at most one digit (6 becomes 9, and 9 becomes 6).\n",
    "\n",
    "class Solution(object):\n",
    "    def maximum69Number (self, num):\n",
    "        \"\"\"\n",
    "        :type num: int\n",
    "        :rtype: int\n",
    "        \"\"\"\n",
    "        count = 0\n",
    "        num = str(num)\n",
    "        for i in range(len(num)):\n",
    "            if num[i] == '6' and count == 0:\n",
    "                count+=1\n",
    "                num = num.replace('6','9', 1)\n",
    "        return int(num)"
   ]
  },
  {
   "cell_type": "markdown",
   "id": "76cc1af2",
   "metadata": {},
   "source": [
    "# 5."
   ]
  },
  {
   "cell_type": "code",
   "execution_count": 76,
   "id": "ae7e993d",
   "metadata": {},
   "outputs": [],
   "source": [
    "#You are given a positive integer num consisting of exactly four digits. \n",
    "#Split num into two new integers new1 and new2 by using the digits found in num. \n",
    "#Leading zeros are allowed in new1 and new2, and all the digits found in num must be used.\n",
    "\n",
    "#For example, given num = 2932, you have the following digits: two 2's, one 9 and one 3. \n",
    "#Some of the possible pairs [new1, new2] are [22, 93], [23, 92], [223, 9] and [2, 329].\n"
   ]
  },
  {
   "cell_type": "code",
   "execution_count": null,
   "id": "919e7c3a",
   "metadata": {},
   "outputs": [],
   "source": []
  },
  {
   "cell_type": "code",
   "execution_count": null,
   "id": "d8531ac9",
   "metadata": {},
   "outputs": [],
   "source": []
  },
  {
   "cell_type": "code",
   "execution_count": null,
   "id": "e04a3bba",
   "metadata": {},
   "outputs": [],
   "source": []
  },
  {
   "cell_type": "code",
   "execution_count": null,
   "id": "25dde56f",
   "metadata": {},
   "outputs": [],
   "source": []
  }
 ],
 "metadata": {
  "kernelspec": {
   "display_name": "Python 3 (ipykernel)",
   "language": "python",
   "name": "python3"
  },
  "language_info": {
   "codemirror_mode": {
    "name": "ipython",
    "version": 3
   },
   "file_extension": ".py",
   "mimetype": "text/x-python",
   "name": "python",
   "nbconvert_exporter": "python",
   "pygments_lexer": "ipython3",
   "version": "3.10.8"
  }
 },
 "nbformat": 4,
 "nbformat_minor": 5
}
