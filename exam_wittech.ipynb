{
 "cells": [
  {
   "cell_type": "markdown",
   "id": "3cde788e",
   "metadata": {},
   "source": [
    "# Market satış və kassa çeki verən yeni bir proqram yaradın"
   ]
  },
  {
   "cell_type": "code",
   "execution_count": 40,
   "id": "000d5780",
   "metadata": {},
   "outputs": [],
   "source": [
    "#definition to keep all products and number of them\n",
    "class Market(object):\n",
    "    \n",
    "    \n",
    "    def __init__(self):       \n",
    "        self.create_stock()       \n",
    "        self.create_price() \n",
    "        self.receipt()\n",
    "       \n",
    "    #function to keep product and number of them\n",
    "    def create_stock(self):   \n",
    "        global stock \n",
    "        stock = {'meyve-terevez': 30,\n",
    "                 'et-mehsullari': 30,\n",
    "                 'sud-mehsullari': 30,\n",
    "                 'icki': 30,\n",
    "                 'temizlik': 30,\n",
    "                 'kagiz-mehsullari': 30}\n",
    "        \n",
    "\n",
    "    #function to keep product and prices\n",
    "    def create_price(self):\n",
    "        global price \n",
    "        price = {'meyve-terevez': 3,\n",
    "                 'et-mehsullari': 15,\n",
    "                 'sud-mehsullari': 5,\n",
    "                 'icki': 47,\n",
    "                 'temizlik': 12,\n",
    "                 'kagiz-mehsullari': 0.8}\n",
    "        return price\n",
    "    \n",
    "    \n",
    "    #function to return receipt and dept\n",
    "    def receipt(self):\n",
    "        value = 0\n",
    "        empty_dict = dict()\n",
    "        number_of_prdcts_dict = dict()\n",
    "        number_of_products_type = int(input('Please, Enter how much products do you want? '))\n",
    "        for i in range(number_of_products_type):\n",
    "            product_type = str(input('Which one do you want? '))\n",
    "            if product_type in stock.keys():\n",
    "                number_of_products = int(input('How much {} do you want: '.format(product_type)))\n",
    "                if stock[product_type] >= number_of_products:\n",
    "                    \n",
    "                    stock[product_type] = stock[product_type] - number_of_products\n",
    "                    value += price[product_type] * number_of_products\n",
    "                    if product_type in empty_dict:\n",
    "                        empty_dict[product_type] = empty_dict[product_type] + (price[product_type] * number_of_products)\n",
    "                    else:      \n",
    "                        empty_dict[product_type] = price[product_type] * number_of_products\n",
    "                elif stock[product_type] == 0:\n",
    "                    print(f'There is no left {product_type}')\n",
    "                else:\n",
    "                    a = input(\"We are sorry, we don't have much {}. Would you mind {}? Just say Y or N.\".format(product_type, \n",
    "                                                                                                                stock[product_type]))\n",
    "                    if a == 'Y':\n",
    "                        value += price[product_type] * stock[product_type]\n",
    "                        empty_dict[product_type] = price[product_type] * stock[product_type]\n",
    "                        stock[product_type] = number_of_products - number_of_products\n",
    "\n",
    "                    else:\n",
    "                        number_of_products = 0\n",
    "\n",
    "            else:\n",
    "                print(f'Sorry, We have no',product_type,'.')\n",
    "        print(f'The receipt: {empty_dict}')\n",
    "        print(f'Your debt is {value} AZN.') \n",
    "        \n",
    "    def qaliq(self):\n",
    "        #self.create_stock()\n",
    "        return stock"
   ]
  },
  {
   "cell_type": "code",
   "execution_count": 41,
   "id": "a3c9354b",
   "metadata": {},
   "outputs": [
    {
     "name": "stdout",
     "output_type": "stream",
     "text": [
      "Please, Enter how much products do you want? 1\n",
      "Which one do you want? N\n",
      "Sorry, We have no N .\n",
      "The receipt: {}\n",
      "Your debt is 0 AZN.\n"
     ]
    }
   ],
   "source": [
    "market = Market()"
   ]
  },
  {
   "cell_type": "code",
   "execution_count": 49,
   "id": "c73adbf4",
   "metadata": {},
   "outputs": [
    {
     "name": "stdout",
     "output_type": "stream",
     "text": [
      "Please, Enter how much products do you want? 1\n",
      "Which one do you want? kagiz-mehsullari\n",
      "How much kagiz-mehsullari do you want: 1\n",
      "There is no left kagiz-mehsullari\n",
      "The receipt: {}\n",
      "Your debt is 0 AZN.\n"
     ]
    }
   ],
   "source": [
    "market.receipt()"
   ]
  },
  {
   "cell_type": "code",
   "execution_count": 50,
   "id": "517c2ef1",
   "metadata": {},
   "outputs": [
    {
     "data": {
      "text/plain": [
       "{'meyve-terevez': 30,\n",
       " 'et-mehsullari': 0,\n",
       " 'sud-mehsullari': 18,\n",
       " 'icki': 30,\n",
       " 'temizlik': 18,\n",
       " 'kagiz-mehsullari': 0}"
      ]
     },
     "execution_count": 50,
     "metadata": {},
     "output_type": "execute_result"
    }
   ],
   "source": [
    "market.qaliq()"
   ]
  },
  {
   "cell_type": "code",
   "execution_count": 64,
   "id": "d48d8b33",
   "metadata": {},
   "outputs": [
    {
     "data": {
      "text/plain": [
       "{'meyve-terevez': 3,\n",
       " 'et-mehsullari': 15,\n",
       " 'sud-mehsullari': 5,\n",
       " 'icki': 47,\n",
       " 'temizlik': 12,\n",
       " 'kagiz-mehsullari': 0.8}"
      ]
     },
     "execution_count": 64,
     "metadata": {},
     "output_type": "execute_result"
    }
   ],
   "source": [
    "market.create_price()"
   ]
  },
  {
   "cell_type": "markdown",
   "id": "b6362ad8",
   "metadata": {},
   "source": [
    "# Unversitetdə GPA(Ümumi orta qiymət göstərici) hesablayan proqram yazın. Yaratdığınız kodun Colab və ya Jypiter linkini aşağıda olan sətirdə qeyd edin."
   ]
  },
  {
   "cell_type": "code",
   "execution_count": 13,
   "id": "1cbd2243",
   "metadata": {},
   "outputs": [],
   "source": [
    "#ders adlari ve kreditler\n",
    "lessons = dict()\n",
    "\n",
    "#ders adlari ve alinan qiymetler\n",
    "points = dict()\n",
    "\n",
    "#gpa ya esasen \n",
    "qiymetlendirme = {'A': list(range(91,100)),\n",
    "                 'B': list(range(81,91)),\n",
    "                 'C': list(range(71,81)),\n",
    "                 'D': list(range(61,71)),\n",
    "                 'E': list(range(51,61)),\n",
    "                 'F': list(range(41,51))}\n",
    "\n",
    "#stipendiye novu\n",
    "stp = ['elaci', 'zerbeci', 'adi']"
   ]
  },
  {
   "cell_type": "code",
   "execution_count": 14,
   "id": "aaa61dc3",
   "metadata": {},
   "outputs": [
    {
     "name": "stdout",
     "output_type": "stream",
     "text": [
      "How many classses did you take in one semestr? 4\n",
      "Please, Enter the 1th class: FPGA\n",
      "Please, Enter the point out of 100 for FPGA: 91\n",
      "Please, Enter the credit for FPGA: 6\n",
      "Please, Enter the 2th class: Verilog HDL\n",
      "Please, Enter the point out of 100 for Verilog HDL: 81\n",
      "Please, Enter the credit for Verilog HDL: 4\n",
      "Please, Enter the 3th class: AI\n",
      "Please, Enter the point out of 100 for AI: 100\n",
      "Please, Enter the credit for AI: 5\n",
      "Please, Enter the 4th class: Math\n",
      "Please, Enter the point out of 100 for Math: 92\n",
      "Please, Enter the credit for Math: 6\n",
      "You are zerbeci with the 91.52 of GPA\n"
     ]
    }
   ],
   "source": [
    "#creating lessons, credits and points\n",
    "number_of_lessons = int(input('How many classses did you take in one semestr? '))\n",
    "for i in range(number_of_lessons):\n",
    "    lesson = input('Please, Enter the {}th class: '.format(i+1))\n",
    "    point = int(input('Please, Enter the point out of 100 for {}: '.format(lesson)))\n",
    "    credit = int(input('Please, Enter the credit for {}: '.format(lesson)))\n",
    "    lessons[lesson] = credit\n",
    "    points[lesson] = point\n",
    "\n",
    "    \n",
    "#calculating the gpa\n",
    "sum_of_points = 0\n",
    "sum_of_credits = 0\n",
    "for i in points:\n",
    "    sum_of_points += points[i] * lessons[i]\n",
    "    sum_of_credits += lessons[i]\n",
    "GPA = round(sum_of_points / sum_of_credits,2)\n",
    "\n",
    "#determine the type of scholarship\n",
    "points_list = []\n",
    "for i in points:\n",
    "    points_list.append(points[i])\n",
    "    \n",
    "import numpy as np\n",
    "points_list = np.array(points_list)\n",
    "if all(points_list>=70) and any(points_list>=91):\n",
    "    print(f'You are zerbeci with the {GPA} of GPA')\n",
    "elif all(points_list>=91):\n",
    "    print(f'You are elaci with the {GPA} of GPA')\n",
    "elif all(points_list>=51):\n",
    "    print(f'You are adi with the {GPA} of GPA')\n",
    "else:\n",
    "    print('KESR')"
   ]
  },
  {
   "cell_type": "markdown",
   "id": "f24e9ecb",
   "metadata": {},
   "source": [
    "# Mesajlaşma üçün yeni bir proqram yaradın. Məsələn gmail.com kimi və spam sözlər yaradınş Əgər mesaj içərisində elə bir spam sözə rastlarsa həmin söz olan mesajı bloklasın. Yaratdığınız kodun Colab və ya Jypiter linkini aşağıda olan sətirdə qeyd edin."
   ]
  },
  {
   "cell_type": "code",
   "execution_count": 17,
   "id": "38d3fe8e",
   "metadata": {},
   "outputs": [],
   "source": [
    "spam_words = ['Additional income','Be your own boss','Compete for your business','Double your','Earn $'\n",
    "              ,'Earn extra cash','Earn per week', 'Expect to earn','Extra income','Home based']"
   ]
  },
  {
   "cell_type": "code",
   "execution_count": 1,
   "id": "5a87eaf3",
   "metadata": {},
   "outputs": [
    {
     "name": "stdout",
     "output_type": "stream",
     "text": [
      "You can write your email: sxa\n"
     ]
    },
    {
     "ename": "NameError",
     "evalue": "name 'spam_words' is not defined",
     "output_type": "error",
     "traceback": [
      "\u001b[0;31m---------------------------------------------------------------------------\u001b[0m",
      "\u001b[0;31mNameError\u001b[0m                                 Traceback (most recent call last)",
      "Cell \u001b[0;32mIn[1], line 4\u001b[0m\n\u001b[1;32m      1\u001b[0m \u001b[38;5;66;03m#spam checker\u001b[39;00m\n\u001b[1;32m      2\u001b[0m mail \u001b[38;5;241m=\u001b[39m \u001b[38;5;28minput\u001b[39m(\u001b[38;5;124m'\u001b[39m\u001b[38;5;124mYou can write your email: \u001b[39m\u001b[38;5;124m'\u001b[39m)\n\u001b[0;32m----> 4\u001b[0m \u001b[38;5;28;01mfor\u001b[39;00m j \u001b[38;5;129;01min\u001b[39;00m \u001b[43mspam_words\u001b[49m:\n\u001b[1;32m      5\u001b[0m     \u001b[38;5;28;01mif\u001b[39;00m j[\u001b[38;5;241m0\u001b[39m]\u001b[38;5;241m.\u001b[39mupper() \u001b[38;5;241m+\u001b[39m j[\u001b[38;5;241m1\u001b[39m:(\u001b[38;5;28mlen\u001b[39m(j)\u001b[38;5;241m-\u001b[39m\u001b[38;5;241m1\u001b[39m)] \u001b[38;5;129;01min\u001b[39;00m mail \u001b[38;5;129;01mor\u001b[39;00m j[\u001b[38;5;241m0\u001b[39m]\u001b[38;5;241m.\u001b[39mupper() \u001b[38;5;241m+\u001b[39m j[\u001b[38;5;241m1\u001b[39m:(\u001b[38;5;28mlen\u001b[39m(j)\u001b[38;5;241m-\u001b[39m\u001b[38;5;241m1\u001b[39m)] \u001b[38;5;129;01min\u001b[39;00m mail:\n\u001b[1;32m      7\u001b[0m         \u001b[38;5;28mprint\u001b[39m(\u001b[38;5;124m'\u001b[39m\u001b[38;5;124mThat mail is consist of unwanted words that can be happened as a spam!\u001b[39m\u001b[38;5;124m'\u001b[39m)\n",
      "\u001b[0;31mNameError\u001b[0m: name 'spam_words' is not defined"
     ]
    }
   ],
   "source": [
    "#spam checker\n",
    "mail = input('You can write your email: ')\n",
    "\n",
    "for j in spam_words:\n",
    "    if j[0].upper() + j[1:(len(j)-1)] in mail or j[0].upper() + j[1:(len(j)-1)] in mail:\n",
    "        \n",
    "        print('That mail is consist of unwanted words that can be happened as a spam!')\n",
    "    "
   ]
  },
  {
   "cell_type": "code",
   "execution_count": null,
   "id": "e79d3fcc",
   "metadata": {},
   "outputs": [],
   "source": []
  }
 ],
 "metadata": {
  "kernelspec": {
   "display_name": "Python 3 (ipykernel)",
   "language": "python",
   "name": "python3"
  },
  "language_info": {
   "codemirror_mode": {
    "name": "ipython",
    "version": 3
   },
   "file_extension": ".py",
   "mimetype": "text/x-python",
   "name": "python",
   "nbconvert_exporter": "python",
   "pygments_lexer": "ipython3",
   "version": "3.10.8"
  }
 },
 "nbformat": 4,
 "nbformat_minor": 5
}
