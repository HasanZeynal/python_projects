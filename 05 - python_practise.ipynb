{
 "cells": [
  {
   "cell_type": "code",
   "execution_count": 90,
   "id": "ab2ab025",
   "metadata": {},
   "outputs": [],
   "source": [
    "import numpy as np"
   ]
  },
  {
   "cell_type": "markdown",
   "id": "cec2c189",
   "metadata": {},
   "source": [
    "# 1."
   ]
  },
  {
   "cell_type": "code",
   "execution_count": 20,
   "id": "d3b5c47a",
   "metadata": {},
   "outputs": [
    {
     "data": {
      "text/plain": [
       "'1[.]1[.]1[.]1'"
      ]
     },
     "execution_count": 20,
     "metadata": {},
     "output_type": "execute_result"
    }
   ],
   "source": [
    "#Given a valid (IPv4) IP address, return a defanged version of that IP address.\n",
    "\n",
    "#A defanged IP address replaces every period \".\" with \"[.]\".\n",
    "\n",
    "class Solution:\n",
    "    def defangIPaddr(self, address: str) -> str:\n",
    "\n",
    "        new_list = list()\n",
    "        for i in address:\n",
    "\n",
    "            if i in ['0','1','2','3','4','5','6','7','8','9']:\n",
    "                new_list.append(f'{i}')\n",
    "            else:\n",
    "                new_list.append('[.]')\n",
    "        return ''.join(new_list)\n",
    "Solution().defangIPaddr(address)"
   ]
  },
  {
   "cell_type": "markdown",
   "id": "57c8ee32",
   "metadata": {},
   "source": [
    "# 2."
   ]
  },
  {
   "cell_type": "code",
   "execution_count": 31,
   "id": "a401ef18",
   "metadata": {},
   "outputs": [
    {
     "ename": "ValueError",
     "evalue": "list.remove(x): x not in list",
     "output_type": "error",
     "traceback": [
      "\u001b[1;31m---------------------------------------------------------------------------\u001b[0m",
      "\u001b[1;31mValueError\u001b[0m                                Traceback (most recent call last)",
      "\u001b[1;32m~\\AppData\\Local\\Temp\\ipykernel_12916\\3033712567.py\u001b[0m in \u001b[0;36m<module>\u001b[1;34m\u001b[0m\n\u001b[0;32m     15\u001b[0m                 \u001b[0mnew_list\u001b[0m\u001b[1;33m.\u001b[0m\u001b[0mappend\u001b[0m\u001b[1;33m(\u001b[0m\u001b[1;32mFalse\u001b[0m\u001b[1;33m)\u001b[0m\u001b[1;33m\u001b[0m\u001b[1;33m\u001b[0m\u001b[0m\n\u001b[0;32m     16\u001b[0m         \u001b[1;32mreturn\u001b[0m \u001b[0mnew_list\u001b[0m\u001b[1;33m\u001b[0m\u001b[1;33m\u001b[0m\u001b[0m\n\u001b[1;32m---> 17\u001b[1;33m \u001b[0mSolution\u001b[0m\u001b[1;33m(\u001b[0m\u001b[1;33m)\u001b[0m\u001b[1;33m.\u001b[0m\u001b[0mcanConstruct\u001b[0m\u001b[1;33m(\u001b[0m\u001b[1;34m'aa'\u001b[0m\u001b[1;33m,\u001b[0m\u001b[1;34m'ab'\u001b[0m\u001b[1;33m)\u001b[0m\u001b[1;33m\u001b[0m\u001b[1;33m\u001b[0m\u001b[0m\n\u001b[0m",
      "\u001b[1;32m~\\AppData\\Local\\Temp\\ipykernel_12916\\3033712567.py\u001b[0m in \u001b[0;36mcanConstruct\u001b[1;34m(self, ransomNote, magazine)\u001b[0m\n\u001b[0;32m     11\u001b[0m             \u001b[1;32mif\u001b[0m \u001b[0mi\u001b[0m \u001b[1;32min\u001b[0m \u001b[0mmagazine\u001b[0m\u001b[1;33m:\u001b[0m\u001b[1;33m\u001b[0m\u001b[1;33m\u001b[0m\u001b[0m\n\u001b[0;32m     12\u001b[0m                 \u001b[0mnew_list\u001b[0m\u001b[1;33m.\u001b[0m\u001b[0mappend\u001b[0m\u001b[1;33m(\u001b[0m\u001b[1;32mTrue\u001b[0m\u001b[1;33m)\u001b[0m\u001b[1;33m\u001b[0m\u001b[1;33m\u001b[0m\u001b[0m\n\u001b[1;32m---> 13\u001b[1;33m                 \u001b[0mnew_list\u001b[0m \u001b[1;33m=\u001b[0m \u001b[0mnew_list\u001b[0m\u001b[1;33m.\u001b[0m\u001b[0mremove\u001b[0m\u001b[1;33m(\u001b[0m\u001b[0mi\u001b[0m\u001b[1;33m)\u001b[0m\u001b[1;33m\u001b[0m\u001b[1;33m\u001b[0m\u001b[0m\n\u001b[0m\u001b[0;32m     14\u001b[0m             \u001b[1;32melse\u001b[0m\u001b[1;33m:\u001b[0m\u001b[1;33m\u001b[0m\u001b[1;33m\u001b[0m\u001b[0m\n\u001b[0;32m     15\u001b[0m                 \u001b[0mnew_list\u001b[0m\u001b[1;33m.\u001b[0m\u001b[0mappend\u001b[0m\u001b[1;33m(\u001b[0m\u001b[1;32mFalse\u001b[0m\u001b[1;33m)\u001b[0m\u001b[1;33m\u001b[0m\u001b[1;33m\u001b[0m\u001b[0m\n",
      "\u001b[1;31mValueError\u001b[0m: list.remove(x): x not in list"
     ]
    }
   ],
   "source": [
    "import numpy as np\n",
    "class Solution(object):\n",
    "    def canConstruct(self, ransomNote, magazine):\n",
    "        \"\"\"\n",
    "        :type ransomNote: str\n",
    "        :type magazine: str\n",
    "        :rtype: bool\n",
    "        \"\"\"\n",
    "        new_list = []\n",
    "        for i in ransomNote:\n",
    "            if i in magazine:\n",
    "                new_list.append(True)\n",
    "                new_list = new_list.remove(i)\n",
    "            else:\n",
    "                new_list.append(False)\n",
    "        return new_list\n",
    "Solution().canConstruct('aa','ab')"
   ]
  },
  {
   "cell_type": "markdown",
   "id": "5cb87487",
   "metadata": {},
   "source": [
    "# 3."
   ]
  },
  {
   "cell_type": "code",
   "execution_count": 7,
   "id": "93da9e10",
   "metadata": {},
   "outputs": [
    {
     "data": {
      "text/plain": [
       "4"
      ]
     },
     "execution_count": 7,
     "metadata": {},
     "output_type": "execute_result"
    }
   ],
   "source": [
    "#Given a string s consisting of words and spaces, return the length of the last word in the string.\n",
    "\n",
    "#A word is a maximal substring consisting of non-space characters only.\n",
    "\n",
    "s = \"   fly me   to   the moon  \"\n",
    "s = s.strip()\n",
    "words = s.split(' ')\n",
    "len(words[-1])"
   ]
  },
  {
   "cell_type": "markdown",
   "id": "baa470bb",
   "metadata": {},
   "source": [
    "# 4."
   ]
  },
  {
   "cell_type": "code",
   "execution_count": 27,
   "id": "4e68f015",
   "metadata": {},
   "outputs": [
    {
     "data": {
      "text/plain": [
       "[1, 3, 12, 0, 0]"
      ]
     },
     "execution_count": 27,
     "metadata": {},
     "output_type": "execute_result"
    }
   ],
   "source": [
    "#Given an integer array nums, move all 0's to the end of it while maintaining the relative order of the non-zero elements.\n",
    "\n",
    "nums = [0,1,0,3,12]\n",
    "new_list = []\n",
    "for i in range(len(nums)):\n",
    "    if nums[i] != 0:\n",
    "        new_list.append(nums[i])\n",
    "length = len(nums) - len(new_list)\n",
    "for i in range(length):\n",
    "    new_list.append(0)\n",
    "new_list"
   ]
  },
  {
   "cell_type": "markdown",
   "id": "2621d7a4",
   "metadata": {},
   "source": [
    "# 5."
   ]
  },
  {
   "cell_type": "code",
   "execution_count": 91,
   "id": "64c4142b",
   "metadata": {},
   "outputs": [
    {
     "data": {
      "text/plain": [
       "'weerrwnaan'"
      ]
     },
     "execution_count": 91,
     "metadata": {},
     "output_type": "execute_result"
    }
   ],
   "source": [
    "#You are given two strings word1 and word2. Merge the strings by adding letters in alternating order, starting with word1.\n",
    "#If a string is longer than the other, append the additional letters onto the end of the merged string.\n",
    "\n",
    "#Return the merged string.\n",
    "\n",
    "class Solution(object):\n",
    "    def mergeAlternately(self, word1, word2):\n",
    "        \"\"\"\n",
    "        :type word1: str\n",
    "        :type word2: str\n",
    "        :rtype: str\n",
    "        \"\"\"\n",
    "        leng = 0\n",
    "        result = list()\n",
    "        while leng < len(word1) or leng < len(word2):\n",
    "            if leng < len(word1):\n",
    "                result.append(word1[leng])\n",
    "            if leng < len(word2):\n",
    "                result.append(word2[leng])\n",
    "            leng+=1\n",
    "        return ''.join(result)\n",
    "Solution().mergeAlternately('werna','erwan')"
   ]
  },
  {
   "cell_type": "markdown",
   "id": "ed5c451b",
   "metadata": {},
   "source": [
    "# 6."
   ]
  },
  {
   "cell_type": "code",
   "execution_count": 89,
   "id": "70b68187",
   "metadata": {},
   "outputs": [
    {
     "data": {
      "text/plain": [
       "0"
      ]
     },
     "execution_count": 89,
     "metadata": {},
     "output_type": "execute_result"
    }
   ],
   "source": [
    "#You are given an integer num. You can swap two digits at most once to get the maximum valued number.\n",
    "\n",
    "#Return the maximum valued number you can get.\n",
    "\n",
    "num = 99374589\n",
    "new_list = []\n",
    "if num == int(''.join(sorted(str(num),reverse=True))):\n",
    "    print(num)\n",
    "else:\n",
    "    for i in range(len(str(num))):\n",
    "        if len(str(num)) > i + 1:\n",
    "            if int(str(num)[i]) < int(str(num)[i+1]):\n",
    "                new_list.append(int(str(num)[i]))\n",
    "                new_list.append(int(str(num)[i+1]))\n",
    "min_number = np.min(new_list)\n",
    "max_number = np.max(new_list)\n",
    "# result = str(num).replace(str(min_number),str(max_number))\n",
    "# print(result.replace(str(max),str(max_number)))\n",
    "neww_list = []\n",
    "for i in range(len(str(num))):\n",
    "    neww_list.append(int(str(num)[i]))\n",
    "neww_list.index(min_number)\n",
    "neww_list.index(max_number)"
   ]
  },
  {
   "cell_type": "markdown",
   "id": "a5ec06d3",
   "metadata": {},
   "source": [
    "# 7."
   ]
  },
  {
   "cell_type": "code",
   "execution_count": 42,
   "id": "243d236d",
   "metadata": {},
   "outputs": [],
   "source": [
    "my_list = [\"\",\"easy\",\"\",\"\",\"problem\",\"\"]"
   ]
  },
  {
   "cell_type": "markdown",
   "id": "98dceefa",
   "metadata": {},
   "source": [
    "# 8."
   ]
  },
  {
   "cell_type": "code",
   "execution_count": 29,
   "id": "b273f68d",
   "metadata": {},
   "outputs": [
    {
     "data": {
      "text/plain": [
       "['one', 'two', 'three', 'four', 'five', 'six']"
      ]
     },
     "execution_count": 29,
     "metadata": {},
     "output_type": "execute_result"
    }
   ],
   "source": [
    "words = [\"one.two.three\",\"four.five\",\"six\"]\n",
    "separator = \".\"\n",
    "new_list = []\n",
    "for i in words:\n",
    "    new_list+= i.split(separator)\n",
    "new_list"
   ]
  },
  {
   "cell_type": "markdown",
   "id": "b2da32c3",
   "metadata": {},
   "source": [
    "# 9."
   ]
  },
  {
   "cell_type": "code",
   "execution_count": 22,
   "id": "4907e1d5",
   "metadata": {},
   "outputs": [],
   "source": [
    "words = [\"cd\",\"ac\",\"dc\",\"ca\",\"zz\"]\n",
    "count = 0\n",
    "for i,j in enumerate(words):\n",
    "    if j in words[i+1:]:\n",
    "        count+= 1\n",
    "        print(count)"
   ]
  },
  {
   "cell_type": "markdown",
   "id": "98a36806",
   "metadata": {},
   "source": [
    "# 10."
   ]
  },
  {
   "cell_type": "code",
   "execution_count": 17,
   "id": "7e13e154",
   "metadata": {},
   "outputs": [
    {
     "name": "stdout",
     "output_type": "stream",
     "text": [
      "13\n",
      "3\n"
     ]
    }
   ],
   "source": [
    "#Given two arrays of unique digits nums1 and nums2, return the smallest number that contains at least one digit from each array.\n",
    "\n",
    "nums1 = [4,1,3]\n",
    "nums2 = [5,7,3]\n",
    "\n",
    "new_list = []\n",
    "\n",
    "if np.min(nums1) != np.min(nums2):\n",
    "    print(int(str(np.min(nums1)) + str(np.min(nums2))))          \n",
    "elif np.min(nums1) in nums2:\n",
    "    print(np.min(nums1))\n",
    "elif np.min(nums2) in nums1:\n",
    "    print(np.min(nums2))\n",
    "for i in nums1:\n",
    "    if i in nums2:\n",
    "        new_list.append(i)\n",
    "        print(np.min(new_list))"
   ]
  }
 ],
 "metadata": {
  "kernelspec": {
   "display_name": "Python 3 (ipykernel)",
   "language": "python",
   "name": "python3"
  },
  "language_info": {
   "codemirror_mode": {
    "name": "ipython",
    "version": 3
   },
   "file_extension": ".py",
   "mimetype": "text/x-python",
   "name": "python",
   "nbconvert_exporter": "python",
   "pygments_lexer": "ipython3",
   "version": "3.9.13"
  }
 },
 "nbformat": 4,
 "nbformat_minor": 5
}
