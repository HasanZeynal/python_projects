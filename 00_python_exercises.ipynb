{
 "cells": [
  {
   "cell_type": "markdown",
   "id": "6cf5c807",
   "metadata": {},
   "source": [
    "# Python Exercises "
   ]
  },
  {
   "cell_type": "markdown",
   "id": "c7b67577",
   "metadata": {},
   "source": [
    "### 1."
   ]
  },
  {
   "cell_type": "code",
   "execution_count": 20,
   "id": "3cc44a91",
   "metadata": {},
   "outputs": [
    {
     "data": {
      "text/plain": [
       "10"
      ]
     },
     "execution_count": 20,
     "metadata": {},
     "output_type": "execute_result"
    }
   ],
   "source": [
    "#return the majority element from given list\n",
    "import numpy as np\n",
    "\n",
    "array = [10, 2, 4, 6, 8,10]\n",
    "values, counts = np.unique(array, return_counts=True)\n",
    "my_dict = dict(zip(values, counts))\n",
    "max_eded = 0\n",
    "for i in my_dict.values():\n",
    "    if max_eded < i:\n",
    "        max_eded = i\n",
    "list(my_dict.keys())[list(my_dict.values()).index(max_eded)]"
   ]
  },
  {
   "cell_type": "markdown",
   "id": "5be98a29",
   "metadata": {},
   "source": [
    "### 2. "
   ]
  },
  {
   "cell_type": "code",
   "execution_count": 59,
   "id": "4be9f6f1",
   "metadata": {},
   "outputs": [
    {
     "name": "stdout",
     "output_type": "stream",
     "text": [
      "[-4, 0, 1, 2, 2, 3, 5, 7]\n"
     ]
    }
   ],
   "source": [
    "#Given an array of integers nums, sort the array in ascending order and return it.\n",
    "import numpy as np\n",
    "array = [5,7, 3, 2, 0, -4, 2, 1]\n",
    "new_list = []\n",
    "for i in range(len(array)):\n",
    "    min_number = np.min(array) \n",
    "    new_list.append(min_number)\n",
    "    array.remove(min_number)        \n",
    "print(new_list)"
   ]
  },
  {
   "cell_type": "markdown",
   "id": "975771b9",
   "metadata": {},
   "source": [
    "### 3."
   ]
  },
  {
   "cell_type": "code",
   "execution_count": null,
   "id": "aa02c2e3",
   "metadata": {},
   "outputs": [],
   "source": [
    "#Given an array nums containing n distinct numbers in the range [0, n],\n",
    "#return the only number in the range that is missing from the array.\n",
    "\n",
    "range1 = range(0,)"
   ]
  },
  {
   "cell_type": "code",
   "execution_count": 67,
   "id": "8f49c236",
   "metadata": {},
   "outputs": [
    {
     "name": "stdout",
     "output_type": "stream",
     "text": [
      "2\n"
     ]
    }
   ],
   "source": [
    "array = [3,0,1]\n",
    "for i in range(len(array)):\n",
    "    if i not in array:\n",
    "        print(i)"
   ]
  },
  {
   "cell_type": "markdown",
   "id": "9014a78e",
   "metadata": {},
   "source": [
    "## 4."
   ]
  },
  {
   "cell_type": "code",
   "execution_count": 69,
   "id": "add060f8",
   "metadata": {},
   "outputs": [],
   "source": [
    "#return the reversed strinmg\n",
    "s = [\"h\",\"e\",\"l\",\"l\",\"o\"]\n",
    "s.reverse()"
   ]
  },
  {
   "cell_type": "code",
   "execution_count": 77,
   "id": "f2bbc0de",
   "metadata": {},
   "outputs": [],
   "source": [
    "#advanced exercise \n",
    "my_str = \"abcdefg\"\n",
    "k = 2"
   ]
  },
  {
   "cell_type": "markdown",
   "id": "061f4871",
   "metadata": {},
   "source": [
    "### 5."
   ]
  },
  {
   "cell_type": "code",
   "execution_count": 16,
   "id": "817648c4",
   "metadata": {},
   "outputs": [],
   "source": [
    "#You are given two positive integers n and k. A factor of an integer n is defined as an integer i where n % i == 0.\n",
    "\n",
    "n = 7\n",
    "k = 2"
   ]
  },
  {
   "cell_type": "code",
   "execution_count": 17,
   "id": "731a77d0",
   "metadata": {},
   "outputs": [
    {
     "name": "stdout",
     "output_type": "stream",
     "text": [
      "7\n"
     ]
    }
   ],
   "source": [
    "result = []\n",
    "for i in range(n+1):\n",
    "    if i != 0:\n",
    "        if n % i == 0:\n",
    "            result.append(i)\n",
    "    \n",
    "if len(result) < k:\n",
    "    print(-1)\n",
    "else:\n",
    "    print(result[k-1])"
   ]
  },
  {
   "cell_type": "markdown",
   "id": "d6aa4f0b",
   "metadata": {},
   "source": [
    "### 6."
   ]
  },
  {
   "cell_type": "code",
   "execution_count": 25,
   "id": "a6df4428",
   "metadata": {},
   "outputs": [
    {
     "data": {
      "text/plain": [
       "[1, 1, 2, 4, 5, 6, 7, 8]"
      ]
     },
     "execution_count": 25,
     "metadata": {},
     "output_type": "execute_result"
    }
   ],
   "source": [
    "#You are given the heads of two sorted linked lists list1 and list2.\n",
    "\n",
    "list1 = [1,2,4,6]\n",
    "list2 = [1,5,7,8]\n",
    "for i in list1:\n",
    "    list2.append(i)\n",
    "result = sorted(list2)\n",
    "result"
   ]
  },
  {
   "cell_type": "markdown",
   "id": "d8b7ba3f",
   "metadata": {},
   "source": [
    "### 7."
   ]
  },
  {
   "cell_type": "code",
   "execution_count": 29,
   "id": "49e4b8c7",
   "metadata": {},
   "outputs": [
    {
     "data": {
      "text/plain": [
       "2.0"
      ]
     },
     "execution_count": 29,
     "metadata": {},
     "output_type": "execute_result"
    }
   ],
   "source": [
    "#Given two sorted arrays nums1 and nums2 of size m and n respectively, return the median of the two sorted arrays.\n",
    "import numpy as np\n",
    "nums1 = [1,2]\n",
    "nums2  = [3]\n",
    "for i in nums1:\n",
    "    nums2.append(i)\n",
    "np.median(nums2)"
   ]
  },
  {
   "cell_type": "markdown",
   "id": "5f1e5a41",
   "metadata": {},
   "source": [
    "### 8."
   ]
  },
  {
   "cell_type": "code",
   "execution_count": 41,
   "id": "4ead96ab",
   "metadata": {},
   "outputs": [],
   "source": [
    "#Given two strings s and t, return true if s is a subsequence of t, or false otherwise.\n",
    "s = 'abse'\n",
    "t = 'atsvb'\n",
    "\n",
    "list1 = []\n",
    "for i in s:\n",
    "    if i in t:\n",
    "        list1.append(True)\n",
    "    else:\n",
    "        list1.append(False)\n",
    "if np.sum(list1) == len(s):\n",
    "    print(True)\n",
    "else:\n",
    "    print(False)"
   ]
  },
  {
   "cell_type": "markdown",
   "id": "defca2da",
   "metadata": {},
   "source": [
    "### 9. Not Done"
   ]
  },
  {
   "cell_type": "code",
   "execution_count": 88,
   "id": "09d92b57",
   "metadata": {},
   "outputs": [],
   "source": [
    "s = \"abc\"\n",
    "t = \"ahbgdc\""
   ]
  },
  {
   "cell_type": "code",
   "execution_count": 89,
   "id": "7e3d6a1c",
   "metadata": {},
   "outputs": [
    {
     "data": {
      "text/plain": [
       "['a', 'b', 'c']"
      ]
     },
     "execution_count": 89,
     "metadata": {},
     "output_type": "execute_result"
    }
   ],
   "source": [
    "list1 = []\n",
    "for i in s:\n",
    "    list1.append(i)\n",
    "list1"
   ]
  },
  {
   "cell_type": "code",
   "execution_count": 90,
   "id": "0ec5d233",
   "metadata": {},
   "outputs": [
    {
     "data": {
      "text/plain": [
       "['a', 'b', 'c']"
      ]
     },
     "execution_count": 90,
     "metadata": {},
     "output_type": "execute_result"
    }
   ],
   "source": [
    "list2 = []\n",
    "for i in t:\n",
    "    if i in list1:\n",
    "        list2.append(i)\n",
    "list2"
   ]
  },
  {
   "cell_type": "code",
   "execution_count": 108,
   "id": "d0c83efb",
   "metadata": {},
   "outputs": [
    {
     "data": {
      "text/plain": [
       "False"
      ]
     },
     "execution_count": 108,
     "metadata": {},
     "output_type": "execute_result"
    }
   ],
   "source": [
    "list1 == list2"
   ]
  },
  {
   "cell_type": "code",
   "execution_count": 109,
   "id": "1707608a",
   "metadata": {},
   "outputs": [
    {
     "name": "stdout",
     "output_type": "stream",
     "text": [
      "True\n"
     ]
    }
   ],
   "source": [
    "if list(set(list2)) == list1 or list1.reverse() == list(set(list2)) or list1 == list2:\n",
    "    print(True)\n",
    "else:\n",
    "    print(False)"
   ]
  },
  {
   "cell_type": "markdown",
   "id": "5c7cbe16",
   "metadata": {},
   "source": [
    "### 10."
   ]
  },
  {
   "cell_type": "code",
   "execution_count": 156,
   "id": "dc5b7a1c",
   "metadata": {},
   "outputs": [
    {
     "name": "stdout",
     "output_type": "stream",
     "text": [
      "2\n"
     ]
    }
   ],
   "source": [
    "#You can apply some operations to this string where, in one operation,\n",
    "#you can remove any occurrence of one of the substrings \"AB\" or \"CD\" from s.\n",
    "\n",
    "s = \"ABFCACDB\"\n",
    "list1 = ['AB','CD']\n",
    "\n",
    "for i in range(100):\n",
    "    for j in list1:\n",
    "        while j in s:\n",
    "            s = s.replace(j,'')\n",
    "print(len(s))"
   ]
  }
 ],
 "metadata": {
  "kernelspec": {
   "display_name": "Python 3 (ipykernel)",
   "language": "python",
   "name": "python3"
  },
  "language_info": {
   "codemirror_mode": {
    "name": "ipython",
    "version": 3
   },
   "file_extension": ".py",
   "mimetype": "text/x-python",
   "name": "python",
   "nbconvert_exporter": "python",
   "pygments_lexer": "ipython3",
   "version": "3.10.8"
  }
 },
 "nbformat": 4,
 "nbformat_minor": 5
}
