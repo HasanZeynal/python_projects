{
 "cells": [
  {
   "cell_type": "markdown",
   "id": "84986f03",
   "metadata": {},
   "source": [
    "# Question: \n",
    "#### Class icerisinde mushteri bazasi,anbar sistemi, yigilsin mehsul kodu olan ve qiymeti gorsenen bazaniz olsun. Bazani istediyiniz satish saytindan elde ede bilersiniz. ve bazadan her deqiqe satish edildikce cek vere bilsin. ve satilan her bir mehsul sayini muvafiq mehsuldan cixsin. en sonda gundelik heftelik ayliq ve illik anbar satish hesabati vere bilen sistem ishlemeye bashlasin."
   ]
  },
  {
   "cell_type": "markdown",
   "id": "3570b5b9",
   "metadata": {},
   "source": [
    "<div class=\"alert alert-block alert-danger\">\n",
    "<b>with function:</b>\n",
    "</div>"
   ]
  },
  {
   "cell_type": "code",
   "execution_count": 49,
   "id": "36261d13",
   "metadata": {},
   "outputs": [
    {
     "name": "stdout",
     "output_type": "stream",
     "text": [
      "How many products do you want? 2\n",
      "The name of product: Car\n",
      "The number of product: 10\n",
      "The name of product: Phone\n",
      "The number of product: 10\n"
     ]
    },
    {
     "data": {
      "text/plain": [
       "{'Car': 10, 'Phone': 10}"
      ]
     },
     "metadata": {},
     "output_type": "display_data"
    },
    {
     "name": "stdout",
     "output_type": "stream",
     "text": [
      "Please,Enter the products price: 25000\n",
      "Please,Enter the products price: 2500\n"
     ]
    },
    {
     "data": {
      "text/plain": [
       "{'Car': 25000, 'Phone': 2500}"
      ]
     },
     "metadata": {},
     "output_type": "display_data"
    },
    {
     "name": "stdout",
     "output_type": "stream",
     "text": [
      "How many products do you want? 2\n",
      "Which product? Car\n",
      "How many of it? 1\n",
      "Which product? Phone\n",
      "How many of it? 2\n",
      "Your debt is 30000\n",
      "******************\n",
      "The store house:\n"
     ]
    },
    {
     "data": {
      "text/plain": [
       "{'Car': 9, 'Phone': 8}"
      ]
     },
     "metadata": {},
     "output_type": "display_data"
    }
   ],
   "source": [
    "def sale():\n",
    "    #anbar\n",
    "    anbar = {}\n",
    "    mehsul_ad = []\n",
    "    mehsul_say = []\n",
    "    types = int(input('How many products do you want? '))\n",
    "    for i in range(types):\n",
    "        mehsul_adi = str(input('The name of product: '))\n",
    "        mehsul_sayi = int(input('The number of product: '))\n",
    "        mehsul_ad.append(mehsul_adi)\n",
    "        mehsul_say.append(mehsul_sayi)\n",
    "        anbar = dict(zip(mehsul_ad,mehsul_say))\n",
    "    display(anbar)\n",
    "    \n",
    "    #price       \n",
    "    price = {}\n",
    "    prices = []\n",
    "    for n in range(types):     \n",
    "        price = int(input('Please,Enter the products price: '))\n",
    "        prices.append(price)\n",
    "        price = dict(zip(mehsul_ad,prices))\n",
    "    display(price)\n",
    "    \n",
    "    #satish ve musteri\n",
    "    debt = 0\n",
    "    say_list = []\n",
    "    final = {}\n",
    "    n = int(input('How many products do you want? '))\n",
    "    for n in range(n):\n",
    "        product = str(input('Which product? '))\n",
    "        quantity = int(input('How many of it? '))\n",
    "        for ad,say in price.items():\n",
    "            if product == ad: \n",
    "                debt += price[product] * quantity\n",
    "                #final anbar\n",
    "                say_list.append(anbar[product] - quantity)\n",
    "    final = dict(zip(mehsul_ad,say_list))\n",
    "    print(f\"Your debt is {debt}\")\n",
    "    print('******************')\n",
    "    print('The store house:')\n",
    "    display(final)\n",
    "\n",
    "sale()"
   ]
  },
  {
   "cell_type": "markdown",
   "id": "eda831bb",
   "metadata": {},
   "source": [
    "<div class=\"alert alert-block alert-danger\">\n",
    "<b>with class:</b>\n",
    "</div>"
   ]
  },
  {
   "cell_type": "code",
   "execution_count": null,
   "id": "84d7cd08",
   "metadata": {},
   "outputs": [],
   "source": []
  },
  {
   "cell_type": "code",
   "execution_count": null,
   "id": "5a83859b",
   "metadata": {},
   "outputs": [],
   "source": []
  },
  {
   "cell_type": "code",
   "execution_count": null,
   "id": "8f2355df",
   "metadata": {},
   "outputs": [],
   "source": []
  },
  {
   "cell_type": "code",
   "execution_count": null,
   "id": "bdfc01e4",
   "metadata": {},
   "outputs": [],
   "source": []
  },
  {
   "cell_type": "code",
   "execution_count": null,
   "id": "29a3ec4f",
   "metadata": {},
   "outputs": [],
   "source": []
  },
  {
   "cell_type": "code",
   "execution_count": null,
   "id": "3975aa8e",
   "metadata": {},
   "outputs": [],
   "source": []
  },
  {
   "cell_type": "code",
   "execution_count": null,
   "id": "96a35d5a",
   "metadata": {},
   "outputs": [],
   "source": []
  },
  {
   "cell_type": "markdown",
   "id": "67e43082",
   "metadata": {},
   "source": [
    "<div class=\"alert alert-block alert-danger\">\n",
    "<b>with pandas:</b>\n",
    "</div>"
   ]
  },
  {
   "cell_type": "code",
   "execution_count": null,
   "id": "48f56577",
   "metadata": {},
   "outputs": [],
   "source": []
  },
  {
   "cell_type": "code",
   "execution_count": null,
   "id": "12b4a409",
   "metadata": {},
   "outputs": [],
   "source": []
  },
  {
   "cell_type": "code",
   "execution_count": null,
   "id": "baafb8de",
   "metadata": {},
   "outputs": [],
   "source": []
  },
  {
   "cell_type": "code",
   "execution_count": null,
   "id": "11399c0d",
   "metadata": {},
   "outputs": [],
   "source": []
  },
  {
   "cell_type": "code",
   "execution_count": null,
   "id": "5963a762",
   "metadata": {},
   "outputs": [],
   "source": []
  }
 ],
 "metadata": {
  "kernelspec": {
   "display_name": "Python 3 (ipykernel)",
   "language": "python",
   "name": "python3"
  },
  "language_info": {
   "codemirror_mode": {
    "name": "ipython",
    "version": 3
   },
   "file_extension": ".py",
   "mimetype": "text/x-python",
   "name": "python",
   "nbconvert_exporter": "python",
   "pygments_lexer": "ipython3",
   "version": "3.10.8"
  }
 },
 "nbformat": 4,
 "nbformat_minor": 5
}
