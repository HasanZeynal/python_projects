{
 "cells": [
  {
   "cell_type": "markdown",
   "id": "dfe71382",
   "metadata": {},
   "source": [
    "### 1."
   ]
  },
  {
   "cell_type": "code",
   "execution_count": 8,
   "id": "4d863621",
   "metadata": {},
   "outputs": [],
   "source": [
    "#Given a sorted array of distinct integers and a target value, return the index if the target is found. \n",
    "#If not, return the index where it would be if it were inserted in order.\n",
    "\n",
    "nums = [1,3,5,6]\n",
    "target = 7\n"
   ]
  },
  {
   "cell_type": "code",
   "execution_count": 9,
   "id": "6225fcd8",
   "metadata": {},
   "outputs": [
    {
     "ename": "IndexError",
     "evalue": "list index out of range",
     "output_type": "error",
     "traceback": [
      "\u001b[0;31m---------------------------------------------------------------------------\u001b[0m",
      "\u001b[0;31mIndexError\u001b[0m                                Traceback (most recent call last)",
      "Cell \u001b[0;32mIn[9], line 4\u001b[0m\n\u001b[1;32m      2\u001b[0m \u001b[38;5;28;01mif\u001b[39;00m target \u001b[38;5;241m==\u001b[39m nums[i]:\n\u001b[1;32m      3\u001b[0m     \u001b[38;5;28mprint\u001b[39m(i)\n\u001b[0;32m----> 4\u001b[0m \u001b[38;5;28;01melif\u001b[39;00m target \u001b[38;5;241m>\u001b[39m nums[i] \u001b[38;5;129;01mand\u001b[39;00m target \u001b[38;5;241m<\u001b[39m \u001b[43mnums\u001b[49m\u001b[43m[\u001b[49m\u001b[43mi\u001b[49m\u001b[38;5;241;43m+\u001b[39;49m\u001b[38;5;241;43m1\u001b[39;49m\u001b[43m]\u001b[49m:\n\u001b[1;32m      5\u001b[0m     \u001b[38;5;28mprint\u001b[39m(i\u001b[38;5;241m+\u001b[39m\u001b[38;5;241m1\u001b[39m)\n",
      "\u001b[0;31mIndexError\u001b[0m: list index out of range"
     ]
    }
   ],
   "source": [
    "for i in range(len(nums)):\n",
    "    if target == nums[i]:\n",
    "        print(i)\n",
    "    elif target > nums[i] and target < nums[i+1]:\n",
    "        print(i+1)"
   ]
  },
  {
   "cell_type": "markdown",
   "id": "e31f84e9",
   "metadata": {},
   "source": [
    "### 2."
   ]
  },
  {
   "cell_type": "code",
   "execution_count": 1,
   "id": "dae8ec7b",
   "metadata": {},
   "outputs": [],
   "source": [
    "#Given a non-empty array of integers nums, every element appears twice except for one. Find that single one.\n",
    "\n",
    "nums = [2,2,1]"
   ]
  },
  {
   "cell_type": "code",
   "execution_count": null,
   "id": "8b894617",
   "metadata": {},
   "outputs": [],
   "source": []
  },
  {
   "cell_type": "markdown",
   "id": "330714e4",
   "metadata": {},
   "source": [
    "### 3."
   ]
  },
  {
   "cell_type": "code",
   "execution_count": 24,
   "id": "573a702c",
   "metadata": {},
   "outputs": [
    {
     "data": {
      "text/plain": [
       "[1, 4, 2, 3, 3, 2, 4, 1]"
      ]
     },
     "execution_count": 24,
     "metadata": {},
     "output_type": "execute_result"
    }
   ],
   "source": [
    "#Given the array nums consisting of 2n elements in the form [x1,x2,...,xn,y1,y2,...,yn].\n",
    "\n",
    "nums = [1,2,3,4,4,3,2,1]\n",
    "n = 4\n",
    "\n",
    "new_list = []\n",
    "for i in range(int(len(nums)/2)):\n",
    "    new_list.append(nums[i])\n",
    "    new_list.append(nums[i+n])\n",
    "\n",
    "new_list"
   ]
  },
  {
   "cell_type": "markdown",
   "id": "5078f6e4",
   "metadata": {},
   "source": [
    "### 4."
   ]
  },
  {
   "cell_type": "code",
   "execution_count": 32,
   "id": "756b46dd",
   "metadata": {},
   "outputs": [
    {
     "data": {
      "text/plain": [
       "1"
      ]
     },
     "execution_count": 32,
     "metadata": {},
     "output_type": "execute_result"
    }
   ],
   "source": [
    "#There is a programming language with only four operations and one variable X:\n",
    "\n",
    "#++X and X++ increments the value of the variable X by 1.\n",
    "#--X and X-- decrements the value of the variable X by 1.\n",
    "\n",
    "operations = [\"--X\",\"X++\",\"X++\"]\n",
    "\n",
    "result = 0\n",
    "for i in operations:\n",
    "    if i == '++X' or i == 'X++':\n",
    "        result = result + 1\n",
    "    else:\n",
    "        result = result - 1\n",
    "result"
   ]
  },
  {
   "cell_type": "markdown",
   "id": "ebf6fe8c",
   "metadata": {},
   "source": [
    "### 5."
   ]
  },
  {
   "cell_type": "code",
   "execution_count": 33,
   "id": "1ba65c40",
   "metadata": {},
   "outputs": [],
   "source": [
    "#There is an undirected star graph consisting of n nodes labeled from 1 to n. \n",
    "#A star graph is a graph where there is one center node and \n",
    "#exactly n - 1 edges that connect the center node with every other node.\n",
    "\n",
    "edges = [[1,2],[5,1],[1,3],[1,4]]"
   ]
  },
  {
   "cell_type": "code",
   "execution_count": null,
   "id": "934a5fa4",
   "metadata": {},
   "outputs": [],
   "source": []
  },
  {
   "cell_type": "code",
   "execution_count": null,
   "id": "a7afb94c",
   "metadata": {},
   "outputs": [],
   "source": []
  }
 ],
 "metadata": {
  "kernelspec": {
   "display_name": "Python 3 (ipykernel)",
   "language": "python",
   "name": "python3"
  },
  "language_info": {
   "codemirror_mode": {
    "name": "ipython",
    "version": 3
   },
   "file_extension": ".py",
   "mimetype": "text/x-python",
   "name": "python",
   "nbconvert_exporter": "python",
   "pygments_lexer": "ipython3",
   "version": "3.10.8"
  }
 },
 "nbformat": 4,
 "nbformat_minor": 5
}
