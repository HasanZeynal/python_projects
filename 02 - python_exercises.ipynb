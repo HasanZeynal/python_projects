{
 "cells": [
  {
   "cell_type": "markdown",
   "id": "dfe71382",
   "metadata": {},
   "source": [
    "### 1."
   ]
  },
  {
   "cell_type": "code",
   "execution_count": 8,
   "id": "4d863621",
   "metadata": {},
   "outputs": [],
   "source": [
    "#Given a sorted array of distinct integers and a target value, return the index if the target is found. \n",
    "#If not, return the index where it would be if it were inserted in order.\n",
    "\n",
    "nums = [1,3,5,6]\n",
    "target = 7\n"
   ]
  },
  {
   "cell_type": "code",
   "execution_count": 9,
   "id": "6225fcd8",
   "metadata": {},
   "outputs": [
    {
     "ename": "IndexError",
     "evalue": "list index out of range",
     "output_type": "error",
     "traceback": [
      "\u001b[0;31m---------------------------------------------------------------------------\u001b[0m",
      "\u001b[0;31mIndexError\u001b[0m                                Traceback (most recent call last)",
      "Cell \u001b[0;32mIn[9], line 4\u001b[0m\n\u001b[1;32m      2\u001b[0m \u001b[38;5;28;01mif\u001b[39;00m target \u001b[38;5;241m==\u001b[39m nums[i]:\n\u001b[1;32m      3\u001b[0m     \u001b[38;5;28mprint\u001b[39m(i)\n\u001b[0;32m----> 4\u001b[0m \u001b[38;5;28;01melif\u001b[39;00m target \u001b[38;5;241m>\u001b[39m nums[i] \u001b[38;5;129;01mand\u001b[39;00m target \u001b[38;5;241m<\u001b[39m \u001b[43mnums\u001b[49m\u001b[43m[\u001b[49m\u001b[43mi\u001b[49m\u001b[38;5;241;43m+\u001b[39;49m\u001b[38;5;241;43m1\u001b[39;49m\u001b[43m]\u001b[49m:\n\u001b[1;32m      5\u001b[0m     \u001b[38;5;28mprint\u001b[39m(i\u001b[38;5;241m+\u001b[39m\u001b[38;5;241m1\u001b[39m)\n",
      "\u001b[0;31mIndexError\u001b[0m: list index out of range"
     ]
    }
   ],
   "source": [
    "for i in range(len(nums)):\n",
    "    if target == nums[i]:\n",
    "        print(i)\n",
    "    elif target > nums[i] and target < nums[i+1]:\n",
    "        print(i+1)"
   ]
  },
  {
   "cell_type": "markdown",
   "id": "a298f0a6",
   "metadata": {},
   "source": [
    "### 2."
   ]
  },
  {
   "cell_type": "code",
   "execution_count": 1,
   "id": "dae8ec7b",
   "metadata": {},
   "outputs": [],
   "source": [
    "#Given a non-empty array of integers nums, every element appears twice except for one. Find that single one.\n",
    "\n",
    "nums = [2,2,1]"
   ]
  },
  {
   "cell_type": "code",
   "execution_count": null,
   "id": "8b894617",
   "metadata": {},
   "outputs": [],
   "source": []
  },
  {
   "cell_type": "markdown",
   "id": "9fcbd558",
   "metadata": {},
   "source": [
    "### 3."
   ]
  },
  {
   "cell_type": "code",
   "execution_count": 24,
   "id": "573a702c",
   "metadata": {},
   "outputs": [
    {
     "data": {
      "text/plain": [
       "[1, 4, 2, 3, 3, 2, 4, 1]"
      ]
     },
     "execution_count": 24,
     "metadata": {},
     "output_type": "execute_result"
    }
   ],
   "source": [
    "#Given the array nums consisting of 2n elements in the form [x1,x2,...,xn,y1,y2,...,yn].\n",
    "\n",
    "nums = [1,2,3,4,4,3,2,1]\n",
    "n = 4\n",
    "\n",
    "new_list = []\n",
    "for i in range(int(len(nums)/2)):\n",
    "    new_list.append(nums[i])\n",
    "    new_list.append(nums[i+n])\n",
    "\n",
    "new_list"
   ]
  },
  {
   "cell_type": "markdown",
   "id": "bbffa6ee",
   "metadata": {},
   "source": [
    "### 4."
   ]
  },
  {
   "cell_type": "code",
   "execution_count": 32,
   "id": "9acb6778",
   "metadata": {},
   "outputs": [
    {
     "data": {
      "text/plain": [
       "1"
      ]
     },
     "execution_count": 32,
     "metadata": {},
     "output_type": "execute_result"
    }
   ],
   "source": [
    "#There is a programming language with only four operations and one variable X:\n",
    "\n",
    "#++X and X++ increments the value of the variable X by 1.\n",
    "#--X and X-- decrements the value of the variable X by 1.\n",
    "\n",
    "operations = [\"--X\",\"X++\",\"X++\"]\n",
    "\n",
    "result = 0\n",
    "for i in operations:\n",
    "    if i == '++X' or i == 'X++':\n",
    "        result = result + 1\n",
    "    else:\n",
    "        result = result - 1\n",
    "result"
   ]
  },
  {
   "cell_type": "markdown",
   "id": "862b316d",
   "metadata": {},
   "source": [
    "### 5."
   ]
  },
  {
   "cell_type": "code",
   "execution_count": 33,
   "id": "8d0ee950",
   "metadata": {},
   "outputs": [],
   "source": [
    "#There is an undirected star graph consisting of n nodes labeled from 1 to n. \n",
    "#A star graph is a graph where there is one center node and \n",
    "#exactly n - 1 edges that connect the center node with every other node.\n",
    "\n",
    "edges = [[1,2],[5,1],[1,3],[1,4]]"
   ]
  },
  {
   "cell_type": "code",
   "execution_count": 48,
   "id": "3397f9af",
   "metadata": {},
   "outputs": [
    {
     "data": {
      "text/plain": [
       "[[1, 2], [5, 1], [1, 3], [1, 4]]"
      ]
     },
     "execution_count": 48,
     "metadata": {},
     "output_type": "execute_result"
    }
   ],
   "source": [
    "[i for i in edges]"
   ]
  },
  {
   "cell_type": "markdown",
   "id": "a4b92de0",
   "metadata": {},
   "source": [
    "### 6."
   ]
  },
  {
   "cell_type": "code",
   "execution_count": 8,
   "id": "9f9a22e2",
   "metadata": {},
   "outputs": [],
   "source": [
    "#Given an integer array nums and an integer val, remove all occurrences of val in nums in-place. \n",
    "#The order of the elements may be changed. Then return the number of elements in nums which are not equal to val.\n",
    "\n",
    "\n",
    "\n",
    "nums = [3,2,2,3]\n",
    "val = 3"
   ]
  },
  {
   "cell_type": "code",
   "execution_count": 9,
   "id": "6ca2781f",
   "metadata": {},
   "outputs": [],
   "source": [
    "new_nums = []\n",
    "for i in nums:\n",
    "    if i != val:\n",
    "        new_nums.append(i)\n",
    "for i in nums:\n",
    "    if i == val:\n",
    "        new_nums.append('_')"
   ]
  },
  {
   "cell_type": "code",
   "execution_count": 16,
   "id": "4aac0d8b",
   "metadata": {},
   "outputs": [
    {
     "data": {
      "text/plain": [
       "[2, 2]"
      ]
     },
     "execution_count": 16,
     "metadata": {},
     "output_type": "execute_result"
    }
   ],
   "source": [
    "neww_list = []\n",
    "for i in new_nums:\n",
    "    if i != '_':\n",
    "        neww_list.append(i)\n",
    "neww_list"
   ]
  },
  {
   "cell_type": "markdown",
   "id": "faa11a08",
   "metadata": {},
   "source": [
    "### 7."
   ]
  },
  {
   "cell_type": "code",
   "execution_count": null,
   "id": "b5bb9308",
   "metadata": {},
   "outputs": [],
   "source": []
  },
  {
   "cell_type": "code",
   "execution_count": null,
   "id": "fe16c9d3",
   "metadata": {},
   "outputs": [],
   "source": []
  },
  {
   "cell_type": "code",
   "execution_count": null,
   "id": "2c44e905",
   "metadata": {},
   "outputs": [],
   "source": []
  },
  {
   "cell_type": "code",
   "execution_count": null,
   "id": "48487e7e",
   "metadata": {},
   "outputs": [],
   "source": []
  },
  {
   "cell_type": "code",
   "execution_count": null,
   "id": "8b9c14ec",
   "metadata": {},
   "outputs": [],
   "source": []
  },
  {
   "cell_type": "markdown",
   "id": "8cf4000e",
   "metadata": {},
   "source": [
    "### 8."
   ]
  },
  {
   "cell_type": "code",
   "execution_count": 55,
   "id": "a7d35656",
   "metadata": {},
   "outputs": [
    {
     "data": {
      "text/plain": [
       "'Capitalize The Title'"
      ]
     },
     "execution_count": 55,
     "metadata": {},
     "output_type": "execute_result"
    }
   ],
   "source": [
    "#You are given a string title consisting of one or more words separated by a single space, \n",
    "#where each word consists of English letters. \n",
    "#If the length of the word is 1 or 2 letters, change all letters to lowercase.\n",
    "\n",
    "title = \"capiTalIze tHe titLe\"\n",
    "result = ''\n",
    "for i in title.split(' '):\n",
    "    word = i[0].upper() + i[1:len(i)].lower() \n",
    "    result += word + ' '\n",
    "result[:-1]"
   ]
  },
  {
   "cell_type": "code",
   "execution_count": 57,
   "id": "a368b757",
   "metadata": {},
   "outputs": [
    {
     "data": {
      "text/plain": [
       "'First Letter of Each Word'"
      ]
     },
     "execution_count": 57,
     "metadata": {},
     "output_type": "execute_result"
    }
   ],
   "source": [
    "title = \"First leTTeR of EACH Word\"\n",
    "result = ''\n",
    "for i in title.split(' '):\n",
    "    if len(i) > 2:\n",
    "        word = i[0].upper() + i[1:len(i)].lower() \n",
    "        result += word + ' '\n",
    "    else:\n",
    "        word = i.lower() \n",
    "        result += word + ' '\n",
    "result[:-1]"
   ]
  },
  {
   "cell_type": "code",
   "execution_count": null,
   "id": "81c8e1a9",
   "metadata": {},
   "outputs": [],
   "source": []
  },
  {
   "cell_type": "markdown",
   "id": "72b22cbb",
   "metadata": {},
   "source": [
    "### 9."
   ]
  },
  {
   "cell_type": "code",
   "execution_count": 39,
   "id": "88edbb92",
   "metadata": {},
   "outputs": [],
   "source": [
    "word = 'HaSan'\n",
    "if word[0] == word[0].upper() and word[1:len(word)] == word[1:len(word)].lower():\n",
    "    print(True)"
   ]
  },
  {
   "cell_type": "code",
   "execution_count": 37,
   "id": "982b2184",
   "metadata": {},
   "outputs": [
    {
     "data": {
      "text/plain": [
       "'asan'"
      ]
     },
     "execution_count": 37,
     "metadata": {},
     "output_type": "execute_result"
    }
   ],
   "source": [
    "word[1:len(word)]"
   ]
  },
  {
   "cell_type": "code",
   "execution_count": null,
   "id": "7dbb59b9",
   "metadata": {},
   "outputs": [],
   "source": []
  },
  {
   "cell_type": "markdown",
   "id": "1889dd5f",
   "metadata": {},
   "source": [
    "### 10."
   ]
  },
  {
   "cell_type": "code",
   "execution_count": 32,
   "id": "a943c8ac",
   "metadata": {},
   "outputs": [
    {
     "data": {
      "text/plain": [
       "3"
      ]
     },
     "execution_count": 32,
     "metadata": {},
     "output_type": "execute_result"
    }
   ],
   "source": [
    "#Given a binary array nums, return the maximum number of consecutive 1's in the array.\n",
    "\n",
    "nums = [1,1,0,1,1,1]\n",
    "my_str = ''\n",
    "my_str_1 = ''\n",
    "counter = 0\n",
    "for i in nums:  \n",
    "    my_str_1 = my_str_1 + my_str.join(str(i))\n",
    "max_len = 0\n",
    "for i in my_str_1.split('0'):\n",
    "    if len(i) > max_len:\n",
    "        max_len = len(i)\n",
    "max_len"
   ]
  }
 ],
 "metadata": {
  "kernelspec": {
   "display_name": "Python 3 (ipykernel)",
   "language": "python",
   "name": "python3"
  },
  "language_info": {
   "codemirror_mode": {
    "name": "ipython",
    "version": 3
   },
   "file_extension": ".py",
   "mimetype": "text/x-python",
   "name": "python",
   "nbconvert_exporter": "python",
   "pygments_lexer": "ipython3",
   "version": "3.10.8"
  }
 },
 "nbformat": 4,
 "nbformat_minor": 5
}
